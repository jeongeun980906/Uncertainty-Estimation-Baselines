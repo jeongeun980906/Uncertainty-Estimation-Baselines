{
 "cells": [
  {
   "cell_type": "markdown",
   "metadata": {},
   "source": [
    "# 1-D Toy Problem"
   ]
  },
  {
   "cell_type": "code",
   "execution_count": 1,
   "metadata": {},
   "outputs": [],
   "source": [
    "import numpy as np\n",
    "import matplotlib.pyplot as plt\n",
    "import math"
   ]
  },
  {
   "cell_type": "code",
   "execution_count": null,
   "metadata": {},
   "outputs": [],
   "source": [
    "x_0 = np.random.rand(20,1)*2\n",
    "x_1_1 = np.random.rand(10,1)*2+2\n",
    "x_1_2 = np.random.rand(10,1)*2-8\n",
    "x_1 = np.concatenate((x_1_1,x_1_2))\n",
    "\n",
    "data = np.concatenate((x_0,x_1))\n",
    "target = np.concatenate((np.zeros((20,1))-1,np.ones((20,1))))\n",
    "\n",
    "plt.plot(x_0,[0]*x_0.shape[0],'o')\n",
    "plt.plot(x_1,[1]*x_1.shape[0],'x')\n",
    "plt.show()"
   ]
  },
  {
   "cell_type": "code",
   "execution_count": null,
   "metadata": {},
   "outputs": [],
   "source": [
    "def covariance_function(x1,x2,length,signal_var,noise_var):\n",
    "    size1 = x1.shape[0]\n",
    "    size2 = x2.shape[0]\n",
    "    out = np.zeros((size1,size2))\n",
    "    for i in range(size1):\n",
    "        for j in range(size2): \n",
    "            xp = x1[i]\n",
    "            xq = x2[j]\n",
    "            out[i,j] =signal_var * math.exp(-1/2*(abs(xp-xq)**2)/length)+noise_var*(i==j)\n",
    "    return out"
   ]
  },
  {
   "cell_type": "markdown",
   "metadata": {},
   "source": [
    "## Laplace Approximation"
   ]
  },
  {
   "cell_type": "code",
   "execution_count": null,
   "metadata": {},
   "outputs": [],
   "source": [
    "def logit_function(x):\n",
    "    return 1/(1+np.exp(-x))"
   ]
  },
  {
   "cell_type": "code",
   "execution_count": null,
   "metadata": {},
   "outputs": [],
   "source": [
    "f = np.zeros_like(target)\n",
    "K = covariance_function(data,data,1,1,0.1)\n",
    "K_inv = np.linalg.inv(K)"
   ]
  },
  {
   "cell_type": "code",
   "execution_count": null,
   "metadata": {},
   "outputs": [
    {
     "name": "stdout",
     "output_type": "stream",
     "text": [
      "50.84825597339089\n",
      "7.244310388841113\n",
      "0.38575079326794337\n",
      "0.001410342520087371\n",
      "2.1776647637916646e-08\n"
     ]
    }
   ],
   "source": [
    "error = 100\n",
    "while error>1e-6:\n",
    "    pi = logit_function(f)\n",
    "    W = np.zeros((f.shape[0],f.shape[0]))\n",
    "    temp = (pi*(1-pi)).reshape(-1).tolist()\n",
    "    np.fill_diagonal(W,temp)\n",
    "    dp = (target+1)/2 - pi\n",
    "    cov = np.linalg.inv(K_inv+W)\n",
    "    f_new = np.matmul(cov,np.matmul(W,f)+dp)\n",
    "    error = np.sum(np.abs(f_new-f))\n",
    "    print(error)\n",
    "    f = f_new\n",
    "f_hat = f"
   ]
  },
  {
   "cell_type": "code",
   "execution_count": null,
   "metadata": {},
   "outputs": [],
   "source": [
    "x_star = np.linspace(-9,5,200)\n",
    "k_star = covariance_function(data,x_star,1,1,0.1)\n",
    "predicted_mean = np.matmul(np.matmul(k_star.T,K_inv),f_hat)\n",
    "predicted_var = covariance_function(x_star,x_star,1,1,0.1) - np.matmul(np.matmul(k_star.T,cov),k_star)"
   ]
  },
  {
   "cell_type": "code",
   "execution_count": null,
   "metadata": {},
   "outputs": [
    {
     "data": {
      "image/png": "[encoded data removed]",
      "text/plain": [
       "<Figure size 432x288 with 1 Axes>"
      ]
     },
     "metadata": {
      "needs_background": "light"
     },
     "output_type": "display_data"
    }
   ],
   "source": [
    "logit_predicted_mean = logit_function(predicted_mean).reshape(-1)\n",
    "a = predicted_var.diagonal()\n",
    "a = logit_function(a)\n",
    "a = np.sqrt(a)\n",
    "plt.figure()\n",
    "plt.plot(x_0,[0]*x_0.shape[0],'o')\n",
    "plt.plot(x_1,[1]*x_1.shape[0],'x')\n",
    "plt.plot(x_star.reshape(-1),logit_predicted_mean,color='k')\n",
    "plt.fill_between(x_star.reshape(-1), (logit_predicted_mean-a).clip(-0.5,1.5),(logit_predicted_mean+a).clip(-0.5,1.5),alpha=0.2,color='r')\n",
    "plt.show()"
   ]
  },
  {
   "cell_type": "markdown",
   "metadata": {},
   "source": [
    "## Expectation Propagation"
   ]
  },
  {
   "cell_type": "code",
   "execution_count": null,
   "metadata": {},
   "outputs": [],
   "source": [
    "f = np.zeros_like(target)\n",
    "K = covariance_function(data,data,1,1,0)\n",
    "K_inv = np.linalg.inv(K)"
   ]
  },
  {
   "cell_type": "code",
   "execution_count": null,
   "metadata": {},
   "outputs": [],
   "source": [
    "import scipy.stats\n",
    "import copy\n",
    "NormalDistribution=scipy.stats.norm(0, 1)"
   ]
  },
  {
   "cell_type": "code",
   "execution_count": null,
   "metadata": {},
   "outputs": [
    {
     "name": "stdout",
     "output_type": "stream",
     "text": [
      "512.3648763825931\n",
      "2.105481848101115\n",
      "0.1581290278556327\n",
      "0.010146653068150269\n",
      "0.000681719636532574\n",
      "5.198693612207261e-05\n",
      "3.8047545463659738e-06\n",
      "2.6791983620544357e-07\n"
     ]
    }
   ],
   "source": [
    "error = 100\n",
    "mu = np.zeros((data.shape[0],1))\n",
    "sigma = copy.deepcopy(K)\n",
    "\n",
    "\n",
    "mu_last = np.zeros((data.shape[0],1))\n",
    "sigma_last = copy.deepcopy(K)\n",
    "\n",
    "nu_tilda = np.zeros((data.shape[0],1))\n",
    "tau_tilda = np.zeros(data.shape[0])\n",
    "\n",
    "# mu_tilda_new = np.zeros((data.shape[0],1))\n",
    "# sigma_tilda_new = np.ones(data.shape[0])\n",
    "\n",
    "# sigma_minus = np.zeros(data.shape[0])\n",
    "# mu_minus = np.zeros(data.shape[0])\n",
    "\n",
    "# sigma_hat = np.zeros(data.shape[0])\n",
    "# mu_hat = np.zeros(data.shape[0])\n",
    "while error>1e-6:\n",
    "    for i in range(0,data.shape[0]):\n",
    "        sigma_i = sigma[i,i]**(0.5)\n",
    "        tau_minus = sigma_i**(-2) - tau_tilda[i]\n",
    "        nu_minus = sigma_i**(-2)*mu[i] - nu_tilda[i]\n",
    "        sigma_minus = tau_minus**(-0.5)\n",
    "        # print('a',sigma_minus)\n",
    "        mu_minus = nu_minus / tau_minus\n",
    "        z_i = (target[i]*mu_minus)/math.sqrt(1+sigma_minus**2)\n",
    "        mu_hat_i = mu_minus + (NormalDistribution.pdf(z_i)*target[i]*sigma_minus**2) \\\n",
    "                                    /(NormalDistribution.cdf(z_i)*math.sqrt(1+sigma_minus**2))\n",
    "\n",
    "        sigma_hat_i = sigma_minus**(2) - sigma_minus**(4)*NormalDistribution.pdf(z_i)/ \\\n",
    "                            ((1+sigma_minus**(2))*NormalDistribution.cdf(z_i))* \\\n",
    "                             (z_i+NormalDistribution.pdf(z_i)/NormalDistribution.cdf(z_i))\n",
    "        sigma_hat_i = sigma_hat_i**(0.5)\n",
    "        \n",
    "        dtau_tilda = sigma_hat_i**(-2) - tau_minus - tau_tilda[i]\n",
    "        tau_tilda[i] = tau_tilda[i] + dtau_tilda\n",
    "        nu_tilda[i] = sigma_hat_i**(-2)*mu_hat_i - nu_minus\n",
    "        s_i = copy.deepcopy(sigma[:,i]).reshape(-1,1)\n",
    "        temp =((dtau_tilda)**(-1)+sigma[i,i])**(-1)*np.matmul(s_i,s_i.T)\n",
    "        sigma -= temp\n",
    "        # print(sigma)\n",
    "        mu = np.dot(sigma,nu_tilda)\n",
    "        # print(mu)\n",
    "\n",
    "    S = np.eye(data.shape[0])*tau_tilda\n",
    "    simga = K - np.dot(K, np.dot(np.linalg.inv((K + np.linalg.inv(S))), K))\n",
    "    mu = np.dot(sigma, nu_tilda)\n",
    "\n",
    "    error = np.sum(np.abs(mu_last - mu))+ np.sum(np.abs(sigma-sigma_last))\n",
    "    sigma_last = sigma\n",
    "    mu_last = mu\n",
    "    print(error)\n",
    "    "
   ]
  },
  {
   "cell_type": "code",
   "execution_count": null,
   "metadata": {},
   "outputs": [],
   "source": [
    "x_star = np.linspace(-9,5,200)\n",
    "k_star = covariance_function(data,x_star,1,1,0.1)"
   ]
  },
  {
   "cell_type": "code",
   "execution_count": null,
   "metadata": {},
   "outputs": [],
   "source": [
    "S = np.eye(data.shape[0])* tau_tilda\n",
    "sigma_tilda = np.linalg.inv(S)\n",
    "\n",
    "predicted_mean = np.dot(np.dot(k_star.T,np.eye(data.shape[0]) - \n",
    "                    np.dot(np.linalg.inv(K+sigma_tilda),K)), nu_tilda)\n",
    "                    \n",
    "predicted_var = covariance_function(x_star,x_star,1,1,0) - np.matmul(np.matmul(k_star.T,\\\n",
    "                                                            np.linalg.inv(K+sigma_tilda)),k_star)"
   ]
  },
  {
   "cell_type": "code",
   "execution_count": null,
   "metadata": {},
   "outputs": [],
   "source": [
    "predicted_prob  = predicted_mean/(np.sqrt(1+predicted_var.diagonal().reshape(-1,1)))\n",
    "predicted_prob = NormalDistribution.cdf(predicted_prob)"
   ]
  },
  {
   "cell_type": "code",
   "execution_count": null,
   "metadata": {},
   "outputs": [],
   "source": [
    "\n",
    "f_star = NormalDistribution.cdf(predicted_mean).reshape(-1)#.diagonal(),\n",
    "a = predicted_var.diagonal()\n"
   ]
  },
  {
   "cell_type": "code",
   "execution_count": null,
   "metadata": {},
   "outputs": [
    {
     "data": {
      "image/png": "[encoded data removed]",
      "text/plain": [
       "<Figure size 432x288 with 1 Axes>"
      ]
     },
     "metadata": {
      "needs_background": "light"
     },
     "output_type": "display_data"
    }
   ],
   "source": [
    "plt.figure()\n",
    "plt.plot(x_0,[0]*x_0.shape[0],'o')\n",
    "plt.plot(x_1,[1]*x_1.shape[0],'x')\n",
    "plt.plot(x_star.reshape(-1),f_star,color='k')\n",
    "plt.fill_between(x_star.reshape(-1), (f_star-a).clip(-0.5,1.5),(f_star+a).clip(-0.5,1.5),alpha=0.2,color='r')\n",
    "plt.show()"
   ]
  },
  {
   "cell_type": "code",
   "execution_count": null,
   "metadata": {},
   "outputs": [
    {
     "data": {
      "image/png": "[encoded data removed]",
      "text/plain": [
       "<Figure size 432x288 with 1 Axes>"
      ]
     },
     "metadata": {
      "needs_background": "light"
     },
     "output_type": "display_data"
    }
   ],
   "source": [
    "plt.figure()\n",
    "plt.plot(x_0,[0]*x_0.shape[0],'o')\n",
    "plt.plot(x_1,[1]*x_1.shape[0],'x')\n",
    "plt.plot(x_star.reshape(-1),predicted_prob.reshape(-1),color='k')\n",
    "plt.show()"
   ]
  },
  {
   "cell_type": "code",
   "execution_count": null,
   "metadata": {},
   "outputs": [],
   "source": []
  },
  {
   "cell_type": "markdown",
   "metadata": {},
   "source": [
    "# Multiclass "
   ]
  },
  {
   "cell_type": "code",
   "execution_count": null,
   "metadata": {},
   "outputs": [],
   "source": [
    "x1 = 0.2* np.random.randn(20) + 1\n",
    "y1 = 0.2*np.random.randn(20) \n",
    "x2 = 0.2*np.random.randn(20)  - 0.5\n",
    "y2 = 0.2*np.random.randn(20) + 0.5\n",
    "x3 = 0.2*np.random.randn(20) -0.5\n",
    "y3 = 0.2*np.random.randn(20) -0.5"
   ]
  },
  {
   "cell_type": "code",
   "execution_count": null,
   "metadata": {},
   "outputs": [
    {
     "data": {
      "image/png": "[encoded data removed]",
      "text/plain": [
       "<Figure size 432x288 with 1 Axes>"
      ]
     },
     "metadata": {
      "needs_background": "light"
     },
     "output_type": "display_data"
    }
   ],
   "source": [
    "plt.figure()\n",
    "plt.plot(x1,y1,'o')\n",
    "plt.plot(x2,y2,'x')\n",
    "plt.plot(x3,y3,'o')\n",
    "plt.show()"
   ]
  },
  {
   "cell_type": "code",
   "execution_count": null,
   "metadata": {},
   "outputs": [],
   "source": [
    "data_0 = np.concatenate((x1.reshape(-1,1),y1.reshape(-1,1)),axis=1)\n",
    "label = np.asarray([[1,0,0]])\n",
    "target_0 = np.repeat(label,data_0.shape[0],axis=0)\n",
    "\n",
    "data_1 = np.concatenate((x2.reshape(-1,1),y2.reshape(-1,1)),axis=1)\n",
    "label = np.asarray([[0,1,0]])\n",
    "target_1 = np.repeat(label,data_1.shape[0],axis=0)\n",
    "\n",
    "data_2 = np.concatenate((x3.reshape(-1,1),y3.reshape(-1,1)),axis=1)\n",
    "label = np.asarray([[0,0,1]])\n",
    "target_2 = np.repeat(label,data_2.shape[0],axis=0)\n",
    "\n",
    "data = np.concatenate((data_0,data_1,data_2))\n",
    "target = np.concatenate((target_0,target_1,target_2))"
   ]
  },
  {
   "cell_type": "code",
   "execution_count": null,
   "metadata": {},
   "outputs": [
    {
     "data": {
      "text/plain": [
       "((60, 2), (60, 3))"
      ]
     },
     "execution_count": 366,
     "metadata": {},
     "output_type": "execute_result"
    }
   ],
   "source": [
    "data.shape, target.shape"
   ]
  },
  {
   "cell_type": "code",
   "execution_count": null,
   "metadata": {},
   "outputs": [],
   "source": [
    "def covariance_function(x1,x2,length,signal_var,noise_var):\n",
    "    size1 = x1.shape[0]\n",
    "    size2 = x2.shape[0]\n",
    "    out = np.zeros((size1,size2))\n",
    "    for i in range(size1):\n",
    "        for j in range(size2): \n",
    "            xp = x1[i]\n",
    "            xq = x2[j]\n",
    "            out[i,j] =signal_var * np.exp(-1/2*(np.linalg.norm(xp-xq))/length)+noise_var*(i==j)\n",
    "    return out\n"
   ]
  },
  {
   "cell_type": "markdown",
   "metadata": {},
   "source": [
    "### Laplace Approximation"
   ]
  },
  {
   "cell_type": "code",
   "execution_count": null,
   "metadata": {},
   "outputs": [],
   "source": [
    "def softmax(f, N = 60):\n",
    "    res = []\n",
    "    for a  in range(N):\n",
    "        re_f = f[a::N]\n",
    "        # print(re_f)\n",
    "        den = np.sum(np.exp(re_f),axis=-1)\n",
    "        temp = np.exp(re_f)/den.reshape(1,-1)\n",
    "        res.append(temp)\n",
    "    return np.concatenate(res,axis=0)"
   ]
  },
  {
   "cell_type": "code",
   "execution_count": null,
   "metadata": {},
   "outputs": [],
   "source": [
    "from scipy.linalg import block_diag\n",
    "import copy"
   ]
  },
  {
   "cell_type": "code",
   "execution_count": null,
   "metadata": {},
   "outputs": [
    {
     "ename": "LinAlgError",
     "evalue": "Singular matrix",
     "output_type": "error",
     "traceback": [
      "\u001b[0;31m---------------------------------------------------------------------------\u001b[0m",
      "\u001b[0;31mLinAlgError\u001b[0m                               Traceback (most recent call last)",
      "\u001b[1;32m/home/rilab/uncertainty/GPC.ipynb Cell 31\u001b[0m in \u001b[0;36m<cell line: 15>\u001b[0;34m()\u001b[0m\n\u001b[1;32m     <a href='vscode-notebook-cell:/home/rilab/uncertainty/GPC.ipynb#ch0000034?line=22'>23</a>\u001b[0m D \u001b[39m=\u001b[39m np\u001b[39m.\u001b[39meye(\u001b[39m3\u001b[39m\u001b[39m*\u001b[39mN)\u001b[39m*\u001b[39m pi_exp \u001b[39m# [900 x 900]\u001b[39;00m\n\u001b[1;32m     <a href='vscode-notebook-cell:/home/rilab/uncertainty/GPC.ipynb#ch0000034?line=23'>24</a>\u001b[0m W \u001b[39m=\u001b[39m D \u001b[39m-\u001b[39m np\u001b[39m.\u001b[39mdot(PI,PI\u001b[39m.\u001b[39mT)\n\u001b[0;32m---> <a href='vscode-notebook-cell:/home/rilab/uncertainty/GPC.ipynb#ch0000034?line=24'>25</a>\u001b[0m \u001b[39mprint\u001b[39m(np\u001b[39m.\u001b[39;49mlinalg\u001b[39m.\u001b[39;49minv(W))\n\u001b[1;32m     <a href='vscode-notebook-cell:/home/rilab/uncertainty/GPC.ipynb#ch0000034?line=25'>26</a>\u001b[0m f \u001b[39m=\u001b[39m np\u001b[39m.\u001b[39mdot(np\u001b[39m.\u001b[39mlinalg\u001b[39m.\u001b[39minv((np\u001b[39m.\u001b[39mlinalg\u001b[39m.\u001b[39minv(K_tot)\u001b[39m+\u001b[39m W)), \n\u001b[1;32m     <a href='vscode-notebook-cell:/home/rilab/uncertainty/GPC.ipynb#ch0000034?line=26'>27</a>\u001b[0m             (np\u001b[39m.\u001b[39mdot(W,f)\u001b[39m+\u001b[39m  target_exp \u001b[39m-\u001b[39m pi_exp))\n\u001b[1;32m     <a href='vscode-notebook-cell:/home/rilab/uncertainty/GPC.ipynb#ch0000034?line=28'>29</a>\u001b[0m error \u001b[39m=\u001b[39m np\u001b[39m.\u001b[39msum(np\u001b[39m.\u001b[39mabs(f\u001b[39m-\u001b[39mf_last))\n",
      "File \u001b[0;32m<__array_function__ internals>:180\u001b[0m, in \u001b[0;36minv\u001b[0;34m(*args, **kwargs)\u001b[0m\n",
      "File \u001b[0;32m~/.pyenv/versions/3.8.8/envs/test/lib/python3.8/site-packages/numpy/linalg/linalg.py:552\u001b[0m, in \u001b[0;36minv\u001b[0;34m(a)\u001b[0m\n\u001b[1;32m    550\u001b[0m signature \u001b[39m=\u001b[39m \u001b[39m'\u001b[39m\u001b[39mD->D\u001b[39m\u001b[39m'\u001b[39m \u001b[39mif\u001b[39;00m isComplexType(t) \u001b[39melse\u001b[39;00m \u001b[39m'\u001b[39m\u001b[39md->d\u001b[39m\u001b[39m'\u001b[39m\n\u001b[1;32m    551\u001b[0m extobj \u001b[39m=\u001b[39m get_linalg_error_extobj(_raise_linalgerror_singular)\n\u001b[0;32m--> 552\u001b[0m ainv \u001b[39m=\u001b[39m _umath_linalg\u001b[39m.\u001b[39;49minv(a, signature\u001b[39m=\u001b[39;49msignature, extobj\u001b[39m=\u001b[39;49mextobj)\n\u001b[1;32m    553\u001b[0m \u001b[39mreturn\u001b[39;00m wrap(ainv\u001b[39m.\u001b[39mastype(result_t, copy\u001b[39m=\u001b[39m\u001b[39mFalse\u001b[39;00m))\n",
      "File \u001b[0;32m~/.pyenv/versions/3.8.8/envs/test/lib/python3.8/site-packages/numpy/linalg/linalg.py:89\u001b[0m, in \u001b[0;36m_raise_linalgerror_singular\u001b[0;34m(err, flag)\u001b[0m\n\u001b[1;32m     88\u001b[0m \u001b[39mdef\u001b[39;00m \u001b[39m_raise_linalgerror_singular\u001b[39m(err, flag):\n\u001b[0;32m---> 89\u001b[0m     \u001b[39mraise\u001b[39;00m LinAlgError(\u001b[39m\"\u001b[39m\u001b[39mSingular matrix\u001b[39m\u001b[39m\"\u001b[39m)\n",
      "\u001b[0;31mLinAlgError\u001b[0m: Singular matrix"
     ]
    }
   ],
   "source": [
    "f = np.zeros_like(target)\n",
    "f = f.T.reshape(-1)\n",
    "target_exp = target.T.reshape(-1)\n",
    "\n",
    "K = []\n",
    "K.append(covariance_function(data,data,1,1,0.1))\n",
    "K.append(covariance_function(data,data,1,1,0.1))\n",
    "K.append(covariance_function(data,data,1,1,0.1))\n",
    "\n",
    "K_tot = block_diag(*K)\n",
    "f_last = copy.deepcopy(f)\n",
    "error = 100\n",
    "N = data.shape[0]\n",
    "\n",
    "while error>1e-3:\n",
    "    pi = softmax(f)\n",
    "    temp_1 = np.eye(data.shape[0])*pi[:,0]\n",
    "    temp_2 = np.eye(data.shape[0])*pi[:,1]\n",
    "    temp_3 = np.eye(data.shape[0])*pi[:,2]\n",
    "    PI = np.concatenate((temp_1,temp_2,temp_3)) # [3N x N]\n",
    "    pi_exp = pi.T.reshape(-1)\n",
    "\n",
    "    D = np.eye(3*N)* pi_exp # [900 x 900]\n",
    "    W = D - np.dot(PI,PI.T)\n",
    "    f = np.dot(np.linalg.inv((np.linalg.inv(K_tot)+ W)), \n",
    "                (np.dot(W,f)+  target_exp - pi_exp))\n",
    "\n",
    "    error = np.sum(np.abs(f-f_last))\n",
    "    f_last = f\n",
    "    print(error)"
   ]
  },
  {
   "cell_type": "code",
   "execution_count": null,
   "metadata": {},
   "outputs": [],
   "source": [
    "f_star = f"
   ]
  },
  {
   "cell_type": "code",
   "execution_count": null,
   "metadata": {},
   "outputs": [
    {
     "name": "stdout",
     "output_type": "stream",
     "text": [
      "(900, 2)\n"
     ]
    }
   ],
   "source": [
    "x1_star = np.linspace(-1,1.5,30)\n",
    "x2_star = np.linspace(-1,1.5,30)\n",
    "\n",
    "xv,yv = np.meshgrid(x1_star,x2_star)\n",
    "x_star = np.concatenate((xv.reshape(-1,1),yv.reshape(-1,1)), axis=-1)\n",
    "print(x_star.shape)\n",
    "\n",
    "Q = []\n",
    "Q.append(covariance_function(data,x_star,1,1,0.1))\n",
    "Q.append(covariance_function(data,x_star,1,1,0.1))\n",
    "Q.append(covariance_function(data,x_star,1,1,0.1))\n",
    "\n",
    "Q_tot = block_diag(*Q)\n",
    "\n",
    "pi_star = softmax(f_star)\n",
    "\n",
    "temp_1 = np.eye(data.shape[0])*pi_star[:,0]\n",
    "temp_2 = np.eye(data.shape[0])*pi_star[:,1]\n",
    "temp_3 = np.eye(data.shape[0])*pi_star[:,2]\n",
    "PI = np.concatenate((temp_1,temp_2,temp_3)) # [900 x 300]\n",
    "pi_exp = pi_star.T.reshape(-1)\n",
    "\n",
    "D = np.eye(3*N)* pi_exp # [900 x 900]\n",
    "\n",
    "\n",
    "predicted_mean = []\n",
    "for c in range(3):\n",
    "    k_s = covariance_function(data,x_star,1,1,0.1)\n",
    "    mu_star_c = np.dot(k_s.T,(target[:,c] - pi_star[:,c]))\n",
    "    predicted_mean.append(mu_star_c)\n",
    "W = D - np.dot(PI,PI.T)\n",
    "predicted_mean = np.concatenate(predicted_mean)\n",
    "\n",
    "k_ = np.eye(x_star.shape[0])* covariance_function(x_star,x_star,1,1,0.1).diagonal()\n",
    "k_s = [k_ for _ in range(3)]\n",
    "k_s = block_diag(*k_s)\n",
    "\n",
    "K_inv = np.linalg.inv(K_tot)\n",
    "predicted_cov =  k_s- np.dot(np.dot(np.dot(np.dot(Q_tot.T,K_inv), \n",
    "                        np.linalg.inv(K_inv +W)), \n",
    "                        K_inv), Q_tot)\n"
   ]
  },
  {
   "cell_type": "code",
   "execution_count": null,
   "metadata": {},
   "outputs": [
    {
     "data": {
      "image/png": "[encoded data removed]",
      "text/plain": [
       "<Figure size 432x288 with 1 Axes>"
      ]
     },
     "metadata": {
      "needs_background": "light"
     },
     "output_type": "display_data"
    }
   ],
   "source": [
    "fig, ax = plt.subplots()\n",
    "plt.plot(x1,y1,'o')\n",
    "plt.plot(x2,y2,'x')\n",
    "plt.plot(x3,y3,'o')\n",
    "for c in range(3):\n",
    "    predicted_logit = pi_star[:,c]\n",
    "    for i, a in enumerate(predicted_logit):\n",
    "        if c == 0:\n",
    "            plt.plot(data[i,0],data[i,1],'o',color=(0,0,a))\n",
    "        if c == 1:\n",
    "            plt.plot(data[i,0],data[i,1],'o',color=(a,0,0))\n",
    "        if c == 2:\n",
    "            plt.plot(data[i,0],data[i,1],'o',color=(0,a,0))\n",
    "plt.show()"
   ]
  },
  {
   "cell_type": "code",
   "execution_count": null,
   "metadata": {},
   "outputs": [
    {
     "data": {
      "image/png": "[encoded data removed]",
      "text/plain": [
       "<Figure size 432x288 with 1 Axes>"
      ]
     },
     "metadata": {
      "needs_background": "light"
     },
     "output_type": "display_data"
    }
   ],
   "source": [
    "precited_prob = softmax(predicted_mean,N = 900)\n",
    "\n",
    "fig, ax = plt.subplots()\n",
    "plt.plot(x1,y1,'o')\n",
    "plt.plot(x2,y2,'x')\n",
    "plt.plot(x3,y3,'o')\n",
    "for c in range(3):\n",
    "    predicted_logit = precited_prob[:,c].reshape(30,30)\n",
    "    a = ax.pcolormesh(xv, yv, predicted_logit, cmap='RdBu', vmin=0, vmax=1)\n",
    "plt.show()\n"
   ]
  },
  {
   "cell_type": "code",
   "execution_count": null,
   "metadata": {},
   "outputs": [
    {
     "data": {
      "text/plain": [
       "(900, 3)"
      ]
     },
     "execution_count": 261,
     "metadata": {},
     "output_type": "execute_result"
    }
   ],
   "source": []
  },
  {
   "cell_type": "code",
   "execution_count": null,
   "metadata": {},
   "outputs": [],
   "source": []
  }
 ],
 "metadata": {
  "kernelspec": {
   "display_name": "Python 3.8.8 64-bit ('test')",
   "language": "python",
   "name": "python3"
  },
  "language_info": {
   "codemirror_mode": {
    "name": "ipython",
    "version": 3
   },
   "file_extension": ".py",
   "mimetype": "text/x-python",
   "name": "python",
   "nbconvert_exporter": "python",
   "pygments_lexer": "ipython3",
   "version": "3.8.8"
  },
  "orig_nbformat": 4,
  "vscode": {
   "interpreter": {
    "hash": "487dd1363733af1de4770410b450d96d959901602bb0e5b586b29f361e40eaa8"
   }
  }
 },
 "nbformat": 4,
 "nbformat_minor": 2
}
