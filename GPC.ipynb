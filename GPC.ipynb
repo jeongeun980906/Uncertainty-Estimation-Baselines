{
 "cells": [
  {
   "cell_type": "markdown",
   "metadata": {},
   "source": [
    "## 1-D Toy Problem"
   ]
  },
  {
   "cell_type": "code",
   "execution_count": 1,
   "metadata": {},
   "outputs": [],
   "source": [
    "import numpy as np\n",
    "import matplotlib.pyplot as plt\n",
    "import math"
   ]
  },
  {
   "cell_type": "code",
   "execution_count": 29,
   "metadata": {},
   "outputs": [
    {
     "data": {
      "image/png": "[encoded data removed]",
      "text/plain": [
       "<Figure size 432x288 with 1 Axes>"
      ]
     },
     "metadata": {
      "needs_background": "light"
     },
     "output_type": "display_data"
    }
   ],
   "source": [
    "x_0 = np.random.rand(20,1)*2\n",
    "x_1_1 = np.random.rand(10,1)*2+2\n",
    "x_1_2 = np.random.rand(10,1)*2-8\n",
    "x_1 = np.concatenate((x_1_1,x_1_2))\n",
    "\n",
    "data = np.concatenate((x_0,x_1))\n",
    "target = np.concatenate((np.zeros((20,1))-1,np.ones((20,1))))\n",
    "\n",
    "plt.plot(x_0,[0]*x_0.shape[0],'o')\n",
    "plt.plot(x_1,[1]*x_1.shape[0],'x')\n",
    "plt.show()"
   ]
  },
  {
   "cell_type": "code",
   "execution_count": 30,
   "metadata": {},
   "outputs": [],
   "source": [
    "def covariance_function(x1,x2,length,signal_var,noise_var):\n",
    "    size1 = x1.shape[0]\n",
    "    size2 = x2.shape[0]\n",
    "    out = np.zeros((size1,size2))\n",
    "    for i in range(size1):\n",
    "        for j in range(size2): \n",
    "            xp = x1[i]\n",
    "            xq = x2[j]\n",
    "            out[i,j] =signal_var * math.exp(-1/2*(abs(xp-xq)**2)/length)+noise_var*(i==j)\n",
    "    return out"
   ]
  },
  {
   "cell_type": "markdown",
   "metadata": {},
   "source": [
    "## Laplace Approximation"
   ]
  },
  {
   "cell_type": "code",
   "execution_count": 4,
   "metadata": {},
   "outputs": [],
   "source": [
    "def logit_function(x):\n",
    "    return 1/(1+np.exp(-x))"
   ]
  },
  {
   "cell_type": "code",
   "execution_count": 5,
   "metadata": {},
   "outputs": [],
   "source": [
    "f = np.zeros_like(target)\n",
    "K = covariance_function(data,data,1,1,0.1)\n",
    "K_inv = np.linalg.inv(K)"
   ]
  },
  {
   "cell_type": "code",
   "execution_count": 6,
   "metadata": {},
   "outputs": [
    {
     "name": "stdout",
     "output_type": "stream",
     "text": [
      "50.84825597339089\n",
      "7.244310388841113\n",
      "0.38575079326794337\n",
      "0.001410342520087371\n",
      "2.1776647637916646e-08\n"
     ]
    }
   ],
   "source": [
    "error = 100\n",
    "while error>1e-6:\n",
    "    pi = logit_function(f)\n",
    "    W = np.zeros((f.shape[0],f.shape[0]))\n",
    "    temp = (pi*(1-pi)).reshape(-1).tolist()\n",
    "    np.fill_diagonal(W,temp)\n",
    "    dp = (target+1)/2 - pi\n",
    "    cov = np.linalg.inv(K_inv+W)\n",
    "    f_new = np.matmul(cov,np.matmul(W,f)+dp)\n",
    "    error = np.sum(np.abs(f_new-f))\n",
    "    print(error)\n",
    "    f = f_new\n",
    "f_hat = f"
   ]
  },
  {
   "cell_type": "code",
   "execution_count": 7,
   "metadata": {},
   "outputs": [],
   "source": [
    "x_star = np.linspace(-9,5,200)\n",
    "k_star = covariance_function(data,x_star,1,1,0.1)\n",
    "predicted_mean = np.matmul(np.matmul(k_star.T,K_inv),f_hat)\n",
    "predicted_var = covariance_function(x_star,x_star,1,1,0.1) - np.matmul(np.matmul(k_star.T,cov),k_star)"
   ]
  },
  {
   "cell_type": "code",
   "execution_count": 10,
   "metadata": {},
   "outputs": [
    {
     "data": {
      "image/png": "[encoded data removed]",
      "text/plain": [
       "<Figure size 432x288 with 1 Axes>"
      ]
     },
     "metadata": {
      "needs_background": "light"
     },
     "output_type": "display_data"
    }
   ],
   "source": [
    "logit_predicted_mean = logit_function(predicted_mean).reshape(-1)\n",
    "a = predicted_var.diagonal()\n",
    "a = logit_function(a)\n",
    "a = np.sqrt(a)\n",
    "plt.figure()\n",
    "plt.plot(x_0,[0]*x_0.shape[0],'o')\n",
    "plt.plot(x_1,[1]*x_1.shape[0],'x')\n",
    "plt.plot(x_star.reshape(-1),logit_predicted_mean,color='k')\n",
    "plt.fill_between(x_star.reshape(-1), (logit_predicted_mean-a).clip(-1,1),(logit_predicted_mean+a).clip(-1,1),alpha=0.2,color='r')\n",
    "plt.show()"
   ]
  },
  {
   "cell_type": "markdown",
   "metadata": {},
   "source": [
    "## Expectation Propagation"
   ]
  },
  {
   "cell_type": "code",
   "execution_count": 31,
   "metadata": {},
   "outputs": [],
   "source": [
    "import scipy.stats\n",
    "NormalDistribution=scipy.stats.norm(0, 1)"
   ]
  },
  {
   "cell_type": "code",
   "execution_count": 68,
   "metadata": {},
   "outputs": [
    {
     "name": "stdout",
     "output_type": "stream",
     "text": [
      "2195.616165205129\n",
      "1248.8666808908831\n",
      "1044.922088315729\n",
      "871.5400965335174\n",
      "718.2726207603714\n",
      "585.221764624849\n",
      "469.8993036026221\n",
      "370.1577142349336\n",
      "284.896313521488\n",
      "213.61361830544533\n",
      "155.80730699294617\n",
      "110.56540275689989\n",
      "76.46769162543266\n",
      "51.698759271875296\n",
      "34.285601908110856\n",
      "22.38675655821516\n",
      "14.444331615243847\n",
      "9.23969391597137\n",
      "5.87828488547452\n",
      "3.7283011280774803\n",
      "2.3663003795694943\n",
      "1.5097315238339843\n",
      "0.9699626090096765\n",
      "0.6298721328449126\n",
      "0.41509033799013384\n",
      "0.2787443738162515\n",
      "0.1914560888057339\n",
      "0.13488713758856927\n",
      "0.09762165740587456\n",
      "0.07256303371188957\n",
      "0.05529920644440473\n",
      "0.04308177710595958\n",
      "0.03419130386967142\n",
      "0.02754417298893893\n",
      "0.02244986044471725\n",
      "0.018469336706725327\n",
      "0.01540548144351462\n",
      "0.01295694637860298\n",
      "0.011097270202975018\n",
      "0.009585889755031399\n"
     ]
    }
   ],
   "source": [
    "error = 100\n",
    "mu = np.zeros((data.shape[0],1))\n",
    "sigma = K\n",
    "\n",
    "\n",
    "mu_last = np.zeros((data.shape[0],1))\n",
    "sigma_last = K\n",
    "\n",
    "nu_tilda = np.zeros((data.shape[0],1))\n",
    "tau_tilda = np.zeros(data.shape[0])\n",
    "\n",
    "# mu_tilda_new = np.zeros((data.shape[0],1))\n",
    "# sigma_tilda_new = np.ones(data.shape[0])\n",
    "\n",
    "# sigma_minus = np.zeros(data.shape[0])\n",
    "# mu_minus = np.zeros(data.shape[0])\n",
    "\n",
    "# sigma_hat = np.zeros(data.shape[0])\n",
    "# mu_hat = np.zeros(data.shape[0])\n",
    "while error>1e-2:\n",
    "    for i in range(0,data.shape[0]):\n",
    "        \n",
    "        tau_minus = sigma[i,i]**(-2) - tau_tilda[i]\n",
    "        nu_minus = sigma[i,i]**(-2)*mu[i] - nu_tilda[i]\n",
    "        sigma_minus = tau_minus**2\n",
    "        mu_minus = nu_minus / tau_minus\n",
    "        z_i = (target[i]*mu_minus)/math.sqrt(1+sigma_minus**2)\n",
    "        mu_hat_i = mu_minus + (NormalDistribution.pdf(z_i)*target[i]*sigma_minus**2) \\\n",
    "                                    /(NormalDistribution.cdf(z_i)*math.sqrt(1+sigma_minus**2))\n",
    "\n",
    "        sigma_hat_i = sigma_minus**(-2) - sigma_minus**(4)*NormalDistribution.pdf(z_i)/ \\\n",
    "                            ((1+sigma_minus**(2))+NormalDistribution.cdf(z_i))* \\\n",
    "                             (z_i+NormalDistribution.pdf(z_i)/NormalDistribution.cdf(z_i))\n",
    "\n",
    "        dtau_tilda = sigma_hat_i**(-2) - tau_minus - tau_tilda[i]\n",
    "        tau_tilda[i] = tau_tilda[i] + dtau_tilda\n",
    "        nu_tilda[i] = sigma_hat_i**(-2)*mu_hat_i - nu_minus\n",
    "        s_i = np.zeros(data.shape[0])\n",
    "        s_i[i] = tau_tilda[i]\n",
    "        sigma = sigma - ((dtau_tilda)**(-1)+sigma[i,i])**(-1)*np.dot(s_i,s_i.T)\n",
    "        mu = np.dot(sigma,nu_tilda)\n",
    "\n",
    "    S = np.eye(data.shape[0])*tau_tilda\n",
    "    simga = K - np.dot(K, np.dot(np.linalg.inv((K + np.linalg.inv(K))), K))\n",
    "    mu = np.dot(sigma, nu_tilda)\n",
    "\n",
    "    error = np.sum(np.abs(mu_last - mu))+ np.sum(np.abs(sigma-sigma_last))\n",
    "    sigma_last = sigma\n",
    "    mu_last = mu\n",
    "    print(error)\n",
    "    "
   ]
  },
  {
   "cell_type": "code",
   "execution_count": 69,
   "metadata": {},
   "outputs": [],
   "source": [
    "S = np.eye(data.shape[0])* tau_tilda\n",
    "sigma_tilda = np.linalg.inv(S)\n",
    "\n",
    "predicted_mean = np.dot(np.dot(k_star.T,np.eye(data.shape[0]) - \n",
    "                    np.dot(np.linalg.inv(K+sigma_tilda),K)), nu_tilda)\n",
    "                    \n",
    "predicted_var = covariance_function(x_star,x_star,1,1,0.1) - np.matmul(np.matmul(k_star.T,\\\n",
    "                                                            np.linalg.inv(K+sigma_tilda)),k_star)"
   ]
  },
  {
   "cell_type": "code",
   "execution_count": 73,
   "metadata": {},
   "outputs": [
    {
     "data": {
      "text/plain": [
       "-0.09873503185847299"
      ]
     },
     "execution_count": 73,
     "metadata": {},
     "output_type": "execute_result"
    }
   ],
   "source": [
    "predicted_mean.min()"
   ]
  },
  {
   "cell_type": "code",
   "execution_count": 71,
   "metadata": {},
   "outputs": [],
   "source": [
    "\n",
    "a = predicted_mean / np.sqrt(1+predicted_var)\n",
    "pi_star = NormalDistribution.cdf(predicted_mean)#.diagonal()"
   ]
  },
  {
   "cell_type": "code",
   "execution_count": 78,
   "metadata": {},
   "outputs": [
    {
     "data": {
      "image/png": "[encoded data removed]",
      "text/plain": [
       "<Figure size 432x288 with 1 Axes>"
      ]
     },
     "metadata": {
      "needs_background": "light"
     },
     "output_type": "display_data"
    }
   ],
   "source": [
    "plt.figure()\n",
    "plt.plot(x_0,[0]*x_0.shape[0],'o')\n",
    "plt.plot(x_1,[1]*x_1.shape[0],'x')\n",
    "plt.plot(data.reshape(-1),mu,'o')\n",
    "plt.plot(x_star.reshape(-1),pi_star,color='k')\n",
    "# plt.fill_between(x_star.reshape(-1), (logit_predicted_mean-a),(logit_predicted_mean+a),alpha=0.2,color='r')\n",
    "plt.show()"
   ]
  },
  {
   "cell_type": "code",
   "execution_count": null,
   "metadata": {},
   "outputs": [],
   "source": []
  }
 ],
 "metadata": {
  "kernelspec": {
   "display_name": "Python 3.8.8 64-bit ('test')",
   "language": "python",
   "name": "python3"
  },
  "language_info": {
   "codemirror_mode": {
    "name": "ipython",
    "version": 3
   },
   "file_extension": ".py",
   "mimetype": "text/x-python",
   "name": "python",
   "nbconvert_exporter": "python",
   "pygments_lexer": "ipython3",
   "version": "3.8.8"
  },
  "orig_nbformat": 4,
  "vscode": {
   "interpreter": {
    "hash": "487dd1363733af1de4770410b450d96d959901602bb0e5b586b29f361e40eaa8"
   }
  }
 },
 "nbformat": 4,
 "nbformat_minor": 2
}
