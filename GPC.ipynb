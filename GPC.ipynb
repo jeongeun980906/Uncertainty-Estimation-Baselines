{
 "cells": [
  {
   "cell_type": "markdown",
   "metadata": {},
   "source": [
    "## 1-D Toy Problem"
   ]
  },
  {
   "cell_type": "code",
   "execution_count": 1,
   "metadata": {},
   "outputs": [],
   "source": [
    "import numpy as np\n",
    "import matplotlib.pyplot as plt\n",
    "import math"
   ]
  },
  {
   "cell_type": "code",
   "execution_count": 2,
   "metadata": {},
   "outputs": [
    {
     "data": {
      "image/png": "[encoded data removed]",
      "text/plain": [
       "<Figure size 432x288 with 1 Axes>"
      ]
     },
     "metadata": {
      "needs_background": "light"
     },
     "output_type": "display_data"
    }
   ],
   "source": [
    "x_0 = np.random.rand(20,1)*2\n",
    "x_1_1 = np.random.rand(10,1)*2+2\n",
    "x_1_2 = np.random.rand(10,1)*2-8\n",
    "x_1 = np.concatenate((x_1_1,x_1_2))\n",
    "\n",
    "data = np.concatenate((x_0,x_1))\n",
    "target = np.concatenate((np.zeros((20,1))-1,np.ones((20,1))))\n",
    "\n",
    "plt.plot(x_0,[0]*x_0.shape[0],'o')\n",
    "plt.plot(x_1,[1]*x_1.shape[0],'x')\n",
    "plt.show()"
   ]
  },
  {
   "cell_type": "code",
   "execution_count": 3,
   "metadata": {},
   "outputs": [],
   "source": [
    "def covariance_function(x1,x2,length,signal_var,noise_var):\n",
    "    size1 = x1.shape[0]\n",
    "    size2 = x2.shape[0]\n",
    "    out = np.zeros((size1,size2))\n",
    "    for i in range(size1):\n",
    "        for j in range(size2): \n",
    "            xp = x1[i]\n",
    "            xq = x2[j]\n",
    "            out[i,j] =signal_var * math.exp(-1/2*(abs(xp-xq)**2)/length)+noise_var*(i==j)\n",
    "    return out"
   ]
  },
  {
   "cell_type": "markdown",
   "metadata": {},
   "source": [
    "## Laplace Approximation"
   ]
  },
  {
   "cell_type": "code",
   "execution_count": 4,
   "metadata": {},
   "outputs": [],
   "source": [
    "def logit_function(x):\n",
    "    return 1/(1+np.exp(-x))"
   ]
  },
  {
   "cell_type": "code",
   "execution_count": 5,
   "metadata": {},
   "outputs": [],
   "source": [
    "f = np.zeros_like(target)\n",
    "K = covariance_function(data,data,1,1,0.1)\n",
    "K_inv = np.linalg.inv(K)"
   ]
  },
  {
   "cell_type": "code",
   "execution_count": 6,
   "metadata": {},
   "outputs": [
    {
     "name": "stdout",
     "output_type": "stream",
     "text": [
      "50.84825597339089\n",
      "7.244310388841113\n",
      "0.38575079326794337\n",
      "0.001410342520087371\n",
      "2.1776647637916646e-08\n"
     ]
    }
   ],
   "source": [
    "error = 100\n",
    "while error>1e-6:\n",
    "    pi = logit_function(f)\n",
    "    W = np.zeros((f.shape[0],f.shape[0]))\n",
    "    temp = (pi*(1-pi)).reshape(-1).tolist()\n",
    "    np.fill_diagonal(W,temp)\n",
    "    dp = (target+1)/2 - pi\n",
    "    cov = np.linalg.inv(K_inv+W)\n",
    "    f_new = np.matmul(cov,np.matmul(W,f)+dp)\n",
    "    error = np.sum(np.abs(f_new-f))\n",
    "    print(error)\n",
    "    f = f_new\n",
    "f_hat = f"
   ]
  },
  {
   "cell_type": "code",
   "execution_count": 7,
   "metadata": {},
   "outputs": [],
   "source": [
    "x_star = np.linspace(-9,5,200)\n",
    "k_star = covariance_function(data,x_star,1,1,0.1)\n",
    "predicted_mean = np.matmul(np.matmul(k_star.T,K_inv),f_hat)\n",
    "predicted_var = covariance_function(x_star,x_star,1,1,0.1) - np.matmul(np.matmul(k_star.T,cov),k_star)"
   ]
  },
  {
   "cell_type": "code",
   "execution_count": 10,
   "metadata": {},
   "outputs": [
    {
     "data": {
      "image/png": "[encoded data removed]",
      "text/plain": [
       "<Figure size 432x288 with 1 Axes>"
      ]
     },
     "metadata": {
      "needs_background": "light"
     },
     "output_type": "display_data"
    }
   ],
   "source": [
    "logit_predicted_mean = logit_function(predicted_mean).reshape(-1)\n",
    "a = predicted_var.diagonal()\n",
    "a = logit_function(a)\n",
    "a = np.sqrt(a)\n",
    "plt.figure()\n",
    "plt.plot(x_0,[0]*x_0.shape[0],'o')\n",
    "plt.plot(x_1,[1]*x_1.shape[0],'x')\n",
    "plt.plot(x_star.reshape(-1),logit_predicted_mean,color='k')\n",
    "plt.fill_between(x_star.reshape(-1), (logit_predicted_mean-a).clip(-0.5,1.5),(logit_predicted_mean+a).clip(-0.5,1.5),alpha=0.2,color='r')\n",
    "plt.show()"
   ]
  },
  {
   "cell_type": "markdown",
   "metadata": {},
   "source": [
    "## Expectation Propagation"
   ]
  },
  {
   "cell_type": "code",
   "execution_count": 52,
   "metadata": {},
   "outputs": [],
   "source": [
    "f = np.zeros_like(target)\n",
    "K = covariance_function(data,data,1,1,0)\n",
    "K_inv = np.linalg.inv(K)"
   ]
  },
  {
   "cell_type": "code",
   "execution_count": 53,
   "metadata": {},
   "outputs": [],
   "source": [
    "import scipy.stats\n",
    "import copy\n",
    "NormalDistribution=scipy.stats.norm(0, 1)"
   ]
  },
  {
   "cell_type": "code",
   "execution_count": 54,
   "metadata": {},
   "outputs": [
    {
     "data": {
      "text/plain": [
       "array([[1.00000000e+00, 9.99393902e-01, 9.75096793e-01, ...,\n",
       "        9.83689614e-19, 5.43503789e-16, 1.43180779e-17],\n",
       "       [9.99393902e-01, 1.00000000e+00, 9.82156661e-01, ...,\n",
       "        1.34992604e-18, 7.27336037e-16, 1.94453194e-17],\n",
       "       [9.75096793e-01, 9.82156661e-01, 1.00000000e+00, ...,\n",
       "        7.41468981e-18, 3.48348242e-15, 1.00915586e-16],\n",
       "       ...,\n",
       "       [9.83689614e-19, 1.34992604e-18, 7.41468981e-18, ...,\n",
       "        1.00000000e+00, 7.70535147e-01, 9.56288261e-01],\n",
       "       [5.43503789e-16, 7.27336037e-16, 3.48348242e-15, ...,\n",
       "        7.70535147e-01, 1.00000000e+00, 9.14399748e-01],\n",
       "       [1.43180779e-17, 1.94453194e-17, 1.00915586e-16, ...,\n",
       "        9.56288261e-01, 9.14399748e-01, 1.00000000e+00]])"
      ]
     },
     "execution_count": 54,
     "metadata": {},
     "output_type": "execute_result"
    }
   ],
   "source": [
    "K"
   ]
  },
  {
   "cell_type": "code",
   "execution_count": 58,
   "metadata": {},
   "outputs": [
    {
     "name": "stdout",
     "output_type": "stream",
     "text": [
      "532.8328296773801\n",
      "0.7883024044471794\n",
      "0.13761931601676614\n",
      "0.010720613630931686\n",
      "0.0006638981086212054\n",
      "6.117012177878078e-05\n",
      "4.925638633176965e-06\n",
      "3.5560098347875435e-07\n"
     ]
    }
   ],
   "source": [
    "error = 100\n",
    "mu = np.zeros((data.shape[0],1))\n",
    "sigma = copy.deepcopy(K)\n",
    "\n",
    "\n",
    "mu_last = np.zeros((data.shape[0],1))\n",
    "sigma_last = copy.deepcopy(K)\n",
    "\n",
    "nu_tilda = np.zeros((data.shape[0],1))\n",
    "tau_tilda = np.zeros(data.shape[0])\n",
    "\n",
    "# mu_tilda_new = np.zeros((data.shape[0],1))\n",
    "# sigma_tilda_new = np.ones(data.shape[0])\n",
    "\n",
    "# sigma_minus = np.zeros(data.shape[0])\n",
    "# mu_minus = np.zeros(data.shape[0])\n",
    "\n",
    "# sigma_hat = np.zeros(data.shape[0])\n",
    "# mu_hat = np.zeros(data.shape[0])\n",
    "while error>1e-6:\n",
    "    for i in range(0,data.shape[0]):\n",
    "        sigma_i = sigma[i,i]**(0.5)\n",
    "        tau_minus = sigma_i**(-2) - tau_tilda[i]\n",
    "        nu_minus = sigma_i**(-2)*mu[i] - nu_tilda[i]\n",
    "        sigma_minus = tau_minus**(-0.5)\n",
    "        # print('a',sigma_minus)\n",
    "        mu_minus = nu_minus / tau_minus\n",
    "        z_i = (target[i]*mu_minus)/math.sqrt(1+sigma_minus**2)\n",
    "        mu_hat_i = mu_minus + (NormalDistribution.pdf(z_i)*target[i]*sigma_minus**2) \\\n",
    "                                    /(NormalDistribution.cdf(z_i)*math.sqrt(1+sigma_minus**2))\n",
    "\n",
    "        sigma_hat_i = sigma_minus**(2) - sigma_minus**(4)*NormalDistribution.pdf(z_i)/ \\\n",
    "                            ((1+sigma_minus**(2))*NormalDistribution.cdf(z_i))* \\\n",
    "                             (z_i+NormalDistribution.pdf(z_i)/NormalDistribution.cdf(z_i))\n",
    "        sigma_hat_i = sigma_hat_i**(0.5)\n",
    "        \n",
    "        dtau_tilda = sigma_hat_i**(-2) - tau_minus - tau_tilda[i]\n",
    "        tau_tilda[i] = tau_tilda[i] + dtau_tilda\n",
    "        nu_tilda[i] = sigma_hat_i**(-2)*mu_hat_i - nu_minus\n",
    "        s_i = copy.deepcopy(sigma[:,i]).reshape(-1,1)\n",
    "        temp =((dtau_tilda)**(-1)+sigma[i,i])**(-1)*np.matmul(s_i,s_i.T)\n",
    "        sigma -= temp\n",
    "        # print(sigma)\n",
    "        mu = np.dot(sigma,nu_tilda)\n",
    "        # print(mu)\n",
    "\n",
    "    S = np.eye(data.shape[0])*tau_tilda\n",
    "    simga = K - np.dot(K, np.dot(np.linalg.inv((K + np.linalg.inv(S))), K))\n",
    "    mu = np.dot(sigma, nu_tilda)\n",
    "\n",
    "    error = np.sum(np.abs(mu_last - mu))+ np.sum(np.abs(sigma-sigma_last))\n",
    "    sigma_last = sigma\n",
    "    mu_last = mu\n",
    "    print(error)\n",
    "    "
   ]
  },
  {
   "cell_type": "code",
   "execution_count": 59,
   "metadata": {},
   "outputs": [],
   "source": [
    "x_star = np.linspace(-9,5,200)\n",
    "k_star = covariance_function(data,x_star,1,1,0.1)"
   ]
  },
  {
   "cell_type": "code",
   "execution_count": 87,
   "metadata": {},
   "outputs": [],
   "source": [
    "S = np.eye(data.shape[0])* tau_tilda\n",
    "sigma_tilda = np.linalg.inv(S)\n",
    "\n",
    "predicted_mean = np.dot(np.dot(k_star.T,np.eye(data.shape[0]) - \n",
    "                    np.dot(np.linalg.inv(K+sigma_tilda),K)), nu_tilda)\n",
    "                    \n",
    "predicted_var = covariance_function(x_star,x_star,1,1,0) - np.matmul(np.matmul(k_star.T,\\\n",
    "                                                            np.linalg.inv(K+sigma_tilda)),k_star)"
   ]
  },
  {
   "cell_type": "code",
   "execution_count": 90,
   "metadata": {},
   "outputs": [],
   "source": [
    "\n",
    "f_star = NormalDistribution.cdf(predicted_mean).reshape(-1)#.diagonal(),\n",
    "a = predicted_var.diagonal()\n"
   ]
  },
  {
   "cell_type": "code",
   "execution_count": 92,
   "metadata": {},
   "outputs": [
    {
     "data": {
      "image/png": "[encoded data removed]",
      "text/plain": [
       "<Figure size 432x288 with 1 Axes>"
      ]
     },
     "metadata": {
      "needs_background": "light"
     },
     "output_type": "display_data"
    }
   ],
   "source": [
    "plt.figure()\n",
    "plt.plot(x_0,[0]*x_0.shape[0],'o')\n",
    "plt.plot(x_1,[1]*x_1.shape[0],'x')\n",
    "plt.plot(x_star.reshape(-1),f_star,color='k')\n",
    "plt.fill_between(x_star.reshape(-1), (f_star-a).clip(-0.5,1.5),(f_star+a).clip(-0.5,1.5),alpha=0.2,color='r')\n",
    "plt.show()"
   ]
  },
  {
   "cell_type": "code",
   "execution_count": null,
   "metadata": {},
   "outputs": [],
   "source": []
  }
 ],
 "metadata": {
  "kernelspec": {
   "display_name": "Python 3.8.8 64-bit ('test')",
   "language": "python",
   "name": "python3"
  },
  "language_info": {
   "codemirror_mode": {
    "name": "ipython",
    "version": 3
   },
   "file_extension": ".py",
   "mimetype": "text/x-python",
   "name": "python",
   "nbconvert_exporter": "python",
   "pygments_lexer": "ipython3",
   "version": "3.8.8"
  },
  "orig_nbformat": 4,
  "vscode": {
   "interpreter": {
    "hash": "487dd1363733af1de4770410b450d96d959901602bb0e5b586b29f361e40eaa8"
   }
  }
 },
 "nbformat": 4,
 "nbformat_minor": 2
}
