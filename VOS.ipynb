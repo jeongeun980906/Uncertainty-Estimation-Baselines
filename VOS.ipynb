{
 "cells": [
  {
   "cell_type": "code",
   "execution_count": 1,
   "metadata": {},
   "outputs": [],
   "source": [
    "from loader.mnist import MNIST, MNIST_NORMALIZATION\n",
    "from loader.emnist import EMNIST\n",
    "from loader.fmnist import FashionMNIST\n",
    "from core.cnn import simple_cnn\n",
    "from torchvision import datasets,transforms\n",
    "import torch\n",
    "import numpy as np\n",
    "from core.vos import vos_model\n",
    "from core.score import plot, plot_confidence_hist, histogram_binning_calibrator\n",
    "import matplotlib.pyplot as plt"
   ]
  },
  {
   "cell_type": "code",
   "execution_count": 2,
   "metadata": {},
   "outputs": [],
   "source": [
    "tf = transforms.Compose([\n",
    "            transforms.ToTensor(),\n",
    "            MNIST_NORMALIZATION,\n",
    "        ])\n",
    "train_data = MNIST('./dataset/',download=True,transform=tf)\n",
    "test_id = MNIST('./dataset/', download=True,transform=tf,train=False)\n",
    "val_id = MNIST('./dataset/', download=True,transform=tf,train=True,val=True)\n",
    "test_near_ood = EMNIST('./dataset/',download=True,transform=tf,train=False,split='letters')\n",
    "test_far_ood = FashionMNIST('./dataset/',download=True,transform=tf,train=False)\n",
    "\n",
    "train_loader = torch.utils.data.DataLoader(train_data,batch_size = 128,shuffle=True)\n",
    "val_id_loader = torch.utils.data.DataLoader(val_id,batch_size = 128,shuffle=False)\n",
    "test_id_loader = torch.utils.data.DataLoader(test_id,batch_size = 128,shuffle=False)\n",
    "test_near_ood_loader = torch.utils.data.DataLoader(test_near_ood,batch_size = 128,shuffle=False)\n",
    "test_far_ood_loader = torch.utils.data.DataLoader(test_far_ood,batch_size = 128,shuffle=False)"
   ]
  },
  {
   "cell_type": "code",
   "execution_count": 3,
   "metadata": {},
   "outputs": [
    {
     "name": "stderr",
     "output_type": "stream",
     "text": [
      "/home/rilab/uncertainty/core/vos.py:79: UserWarning: nn.init.kaiming_normal is now deprecated in favor of nn.init.kaiming_normal_.\n",
      "  nn.init.kaiming_normal(self.weight_energy.weight)\n",
      "/home/rilab/uncertainty/core/vos.py:80: UserWarning: nn.init.kaiming_normal is now deprecated in favor of nn.init.kaiming_normal_.\n",
      "  nn.init.kaiming_normal(self.energy_surface.weight)\n"
     ]
    }
   ],
   "source": [
    "model = vos_model(y_dim = 10,h_dims=[32] ).to('cuda:0')\n",
    "optimizer = torch.optim.Adam(model.parameters(),lr=1e-4, weight_decay=1e-4)\n"
   ]
  },
  {
   "cell_type": "code",
   "execution_count": 4,
   "metadata": {},
   "outputs": [],
   "source": [
    "class buffer():\n",
    "    def __init__(self,feature_dim=128, queue_size=100):\n",
    "        self.queue_size = queue_size\n",
    "        self.device = 'cuda'\n",
    "        self.features = torch.zeros((0, feature_dim)).to(self.device)\n",
    "        self.labels = torch.zeros((0)).to(self.device)\n",
    "    def append(self, features, labels):\n",
    "        self.features = torch.cat((self.features, features))\n",
    "        self.labels = torch.cat((self.labels, labels))\n",
    "        if self.features.shape[0] > self.queue_size:\n",
    "            self.features = self.features[-self.queue_size:]\n",
    "            self.labels = self.labels[-self.queue_size:]\n",
    "            # print(self.features.shape, self.labels.shape)\n",
    "\n",
    "    def get_size(self):\n",
    "        return self.features.shape[0]\n"
   ]
  },
  {
   "cell_type": "code",
   "execution_count": 5,
   "metadata": {},
   "outputs": [],
   "source": [
    "from torch.distributions.multivariate_normal import MultivariateNormal\n",
    "class vos():\n",
    "    def __init__(self,num_classes, feature_dim = 32, T =1, queue_size = 500):\n",
    "        self.device = 'cuda'\n",
    "        self.num_classes = num_classes\n",
    "        self.feature_dim = feature_dim\n",
    "        self.mu = torch.zeros((num_classes,feature_dim)).to(self.device)\n",
    "        self.var = torch.zeros((feature_dim,feature_dim)).to(self.device)\n",
    "        self.num_outlier = T\n",
    "        self.memory = buffer(feature_dim, queue_size)\n",
    "\n",
    "    def fit(self):\n",
    "        labels = self.memory.labels\n",
    "        features = self.memory.features\n",
    "        mean_matrix = torch.zeros_like(features)\n",
    "        self.epsilons = []\n",
    "        for c in range(self.num_classes):\n",
    "            index = torch.where(labels == c)[0]\n",
    "            data = features[index]\n",
    "            mu = torch.mean(data,axis=0)\n",
    "            self.mu[c] = mu\n",
    "            mean_matrix[index] = mu\n",
    "        \n",
    "        var_exp = (features-mean_matrix).unsqueeze(-1) # [N x D x 1]\n",
    "        var_exp2 = (features-mean_matrix).unsqueeze(1) # [N x D x 1]\n",
    "        self.var = torch.matmul(var_exp, var_exp2)  + 1e-6*torch.eye(self.feature_dim).to(self.device)\n",
    "        self.var = (torch.sum(self.var, dim = 0)/ self.var.shape[0])\n",
    "        \n",
    "        for c in range(self.num_classes):\n",
    "            log_probs = []\n",
    "            m = MultivariateNormal(self.mu[c], self.var)\n",
    "            for _ in range(100):\n",
    "                sa = m.sample()\n",
    "                log_prob = torch.exp(m.log_prob(sa))\n",
    "                log_probs.append(log_prob.item())\n",
    "            log_probs = np.asarray(log_probs)\n",
    "            small_probs = np.sort(log_probs)\n",
    "            ep = small_probs[:self.num_outlier].mean()\n",
    "            self.epsilons.append(ep)\n",
    "        # print(self.epsilons)\n",
    "        \n",
    "    def sample(self):\n",
    "        total_outliers = torch.zeros((0, self.feature_dim))\n",
    "        for label in range(self.num_classes):\n",
    "            stotal = 0\n",
    "            m = MultivariateNormal(self.mu[label], self.var)\n",
    "            outliers = torch.zeros((self.num_outlier,self.feature_dim))\n",
    "            while stotal < self.num_outlier:\n",
    "                sa = m.sample()\n",
    "                log_prob = torch.exp(m.log_prob(sa))\n",
    "                if log_prob < self.epsilons[label]:\n",
    "                    outliers[stotal] = sa\n",
    "                    stotal += 1\n",
    "            total_outliers = torch.cat((total_outliers,outliers))\n",
    "        total_outliers = total_outliers[torch.randperm(total_outliers.shape[0])]\n",
    "        # print(total_outliers.shape)\n",
    "        return total_outliers"
   ]
  },
  {
   "cell_type": "code",
   "execution_count": 6,
   "metadata": {},
   "outputs": [],
   "source": [
    "vos_ = vos(10)"
   ]
  },
  {
   "cell_type": "code",
   "execution_count": 7,
   "metadata": {},
   "outputs": [
    {
     "name": "stdout",
     "output_type": "stream",
     "text": [
      "tensor(1.0960, device='cuda:0', grad_fn=<AddBackward0>)\n",
      "tensor(0.7410, device='cuda:0', grad_fn=<AddBackward0>)\n",
      "tensor(0.6551, device='cuda:0', grad_fn=<AddBackward0>)\n",
      "tensor(0.5444, device='cuda:0', grad_fn=<AddBackward0>)\n",
      "tensor(0.5337, device='cuda:0', grad_fn=<AddBackward0>)\n"
     ]
    }
   ],
   "source": [
    "iterations = 0\n",
    "for e in range(5):\n",
    "    for image,label in train_loader:\n",
    "        out, features = model(image.to('cuda'))\n",
    "        if iterations > 99 and iterations%10==0:\n",
    "            vos_.memory.append(features, label.to('cuda'))\n",
    "            if iterations % 100 == 0:\n",
    "                vos_.fit()\n",
    "            outliers = vos_.sample()\n",
    "            out_outlier = model.simple_cnn.head(outliers.to('cuda'))\n",
    "            out_label = torch.ones((out_outlier.shape[0]), dtype=torch.int64)* -1\n",
    "            out = torch.cat((out, out_outlier))\n",
    "            label = torch.cat((label, out_label))\n",
    "        # print(out.shape, label.shape)\n",
    "        loss = model.oe_criterion(out,label.to('cuda'))\n",
    "        optimizer.zero_grad()\n",
    "        loss.backward()\n",
    "        optimizer.step()\n",
    "        iterations += 1\n",
    "    print(loss)"
   ]
  },
  {
   "cell_type": "markdown",
   "metadata": {},
   "source": [
    "### Test"
   ]
  },
  {
   "cell_type": "code",
   "execution_count": 12,
   "metadata": {},
   "outputs": [
    {
     "name": "stdout",
     "output_type": "stream",
     "text": [
      "Accuracy:0.9789\n"
     ]
    }
   ],
   "source": [
    "model.eval()\n",
    "y_true = []\n",
    "with torch.no_grad():\n",
    "    num_acc = 0\n",
    "    total = 0\n",
    "    for image, label in test_id_loader:\n",
    "        out,_ = model(image.to('cuda'))\n",
    "        _,pred_logit = torch.max(out,dim=-1)\n",
    "        y_true += (label==pred_logit.cpu()).numpy().tolist()\n",
    "        num_acc += (label == pred_logit.cpu()).sum().item()\n",
    "        total += label.shape[0]\n",
    "print(\"Accuracy:{}\".format(num_acc/total))"
   ]
  },
  {
   "cell_type": "markdown",
   "metadata": {},
   "source": [
    "## Uncertainty"
   ]
  },
  {
   "cell_type": "code",
   "execution_count": 14,
   "metadata": {},
   "outputs": [
    {
     "name": "stdout",
     "output_type": "stream",
     "text": [
      "1.9688264482096536\n",
      "3.6082942065412107\n",
      "3.472452524238825\n"
     ]
    }
   ],
   "source": [
    "model.eval()\n",
    "id_score = []\n",
    "with torch.no_grad():\n",
    "    num_acc = 0\n",
    "    total = 0\n",
    "    for image, label in test_id_loader:\n",
    "        out,_ = model(image.to('cuda'))\n",
    "        en = model.energy(out)\n",
    "        id_score += en.cpu().numpy().tolist()\n",
    "id_score = np.asarray(id_score)\n",
    "print(id_score.mean())\n",
    "\n",
    "near_ood_score = []\n",
    "with torch.no_grad():\n",
    "    num_acc = 0\n",
    "    total = 0\n",
    "    for image, label in test_near_ood_loader:\n",
    "        out,_ = model(image.to('cuda'))\n",
    "        en =  model.energy(out)\n",
    "        near_ood_score += en.cpu().numpy().tolist()\n",
    "near_ood_score = np.asarray(near_ood_score)\n",
    "print(near_ood_score.mean())\n",
    "\n",
    "far_ood_score = []\n",
    "with torch.no_grad():\n",
    "    num_acc = 0\n",
    "    total = 0\n",
    "    for image, label in test_far_ood_loader:\n",
    "        out,_ = model(image.to('cuda'))\n",
    "        en =  model.energy(out)\n",
    "        far_ood_score += en.cpu().numpy().tolist()\n",
    "far_ood_score = np.asarray(far_ood_score)\n",
    "print(far_ood_score.mean())"
   ]
  },
  {
   "cell_type": "code",
   "execution_count": 15,
   "metadata": {},
   "outputs": [
    {
     "data": {
      "image/png": "[encoded data removed]",
      "text/plain": [
       "<Figure size 720x360 with 2 Axes>"
      ]
     },
     "metadata": {
      "needs_background": "light"
     },
     "output_type": "display_data"
    },
    {
     "name": "stdout",
     "output_type": "stream",
     "text": [
      "Near AUROC:0.8567146610576922, Far AUROC: 0.86653915\n"
     ]
    }
   ],
   "source": [
    "auroc = plot(id_score,near_ood_score,far_ood_score,name='Energy Based',reverse=False)\n",
    "print(\"Near AUROC:{}, Far AUROC: {}\".format(auroc[0],auroc[1]))"
   ]
  },
  {
   "cell_type": "markdown",
   "metadata": {},
   "source": [
    "## Calibration"
   ]
  },
  {
   "cell_type": "code",
   "execution_count": 26,
   "metadata": {},
   "outputs": [
    {
     "name": "stdout",
     "output_type": "stream",
     "text": [
      "Accuracy:0.9826666666666667\n"
     ]
    }
   ],
   "source": [
    "model.eval()\n",
    "val_y_true,val_score = [], []\n",
    "with torch.no_grad():\n",
    "    num_acc = 0\n",
    "    total = 0\n",
    "    for image, label in val_id_loader:\n",
    "        out,_ = model(image.to('cuda'))\n",
    "        en = model.energy(out)\n",
    "        _,pred_logit = torch.max(out,dim=-1)\n",
    "        val_score += en.cpu().numpy().tolist()\n",
    "        val_y_true += (label==pred_logit.cpu()).numpy().tolist()\n",
    "        num_acc += (label == pred_logit.cpu()).sum().item()\n",
    "        total += label.shape[0]\n",
    "print(\"Accuracy:{}\".format(num_acc/total))\n",
    "val_score = np.asarray(val_score)[:,0]"
   ]
  },
  {
   "cell_type": "code",
   "execution_count": 27,
   "metadata": {},
   "outputs": [
    {
     "data": {
      "text/plain": [
       "(6000,)"
      ]
     },
     "execution_count": 27,
     "metadata": {},
     "output_type": "execute_result"
    }
   ],
   "source": [
    "val_score.shape"
   ]
  },
  {
   "cell_type": "code",
   "execution_count": 29,
   "metadata": {},
   "outputs": [
    {
     "name": "stdout",
     "output_type": "stream",
     "text": [
      "ECE(%):  0.3762984482601064\n"
     ]
    },
    {
     "data": {
      "image/png": "[encoded data removed]",
      "text/plain": [
       "<Figure size 432x288 with 1 Axes>"
      ]
     },
     "metadata": {
      "needs_background": "light"
     },
     "output_type": "display_data"
    }
   ],
   "source": [
    "cval_score_en = val_score*-1\n",
    "cid_score_en = id_score* -1\n",
    "min_en= cval_score_en.min() -1 \n",
    "max_en = cval_score_en.max() +1\n",
    "cal = histogram_binning_calibrator(15,min_en, max_en)\n",
    "cal.fit(cval_score_en,val_y_true)\n",
    "prob_pred, prob_true, ece = cal.inference(cid_score_en[:,0], y_true)\n",
    "\n",
    "plot_confidence_hist(prob_true,prob_pred,'Energy')"
   ]
  },
  {
   "cell_type": "code",
   "execution_count": null,
   "metadata": {},
   "outputs": [],
   "source": []
  }
 ],
 "metadata": {
  "kernelspec": {
   "display_name": "Python 3.8.8 64-bit ('test')",
   "language": "python",
   "name": "python3"
  },
  "language_info": {
   "codemirror_mode": {
    "name": "ipython",
    "version": 3
   },
   "file_extension": ".py",
   "mimetype": "text/x-python",
   "name": "python",
   "nbconvert_exporter": "python",
   "pygments_lexer": "ipython3",
   "version": "3.8.8"
  },
  "orig_nbformat": 4,
  "vscode": {
   "interpreter": {
    "hash": "487dd1363733af1de4770410b450d96d959901602bb0e5b586b29f361e40eaa8"
   }
  }
 },
 "nbformat": 4,
 "nbformat_minor": 2
}
