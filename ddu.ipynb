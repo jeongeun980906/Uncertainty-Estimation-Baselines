{
 "cells": [
  {
   "cell_type": "code",
   "execution_count": 3,
   "metadata": {},
   "outputs": [],
   "source": [
    "from loader.mnist import MNIST, MNIST_NORMALIZATION\n",
    "from loader.emnist import EMNIST\n",
    "from loader.fmnist import FashionMNIST\n",
    "from core.cnn import simple_cnn\n",
    "from core.maha import maha_distance\n",
    "from torchvision import datasets,transforms\n",
    "import torch\n",
    "import numpy as np\n",
    "from core.score import plot, plot_confidence_hist, histogram_binning_calibrator\n",
    "import matplotlib.pyplot as plt"
   ]
  },
  {
   "cell_type": "code",
   "execution_count": 4,
   "metadata": {},
   "outputs": [],
   "source": [
    "tf = transforms.Compose([\n",
    "            transforms.ToTensor(),\n",
    "            MNIST_NORMALIZATION,\n",
    "        ])\n",
    "train_data = MNIST('./dataset/',download=True,transform=tf)\n",
    "test_id = MNIST('./dataset/', download=True,transform=tf,train=False)\n",
    "val_id = MNIST('./dataset/', download=True,transform=tf,train=True,val=True)\n",
    "test_near_ood = EMNIST('./dataset/',download=True,transform=tf,train=False,split='letters')\n",
    "test_far_ood = FashionMNIST('./dataset/',download=True,transform=tf,train=False)\n",
    "\n",
    "train_loader = torch.utils.data.DataLoader(train_data,batch_size = 128,shuffle=True)\n",
    "val_id_loader = torch.utils.data.DataLoader(val_id,batch_size = 128,shuffle=False)\n",
    "test_id_loader = torch.utils.data.DataLoader(test_id,batch_size = 128,shuffle=False)\n",
    "test_near_ood_loader = torch.utils.data.DataLoader(test_near_ood,batch_size = 128,shuffle=False)\n",
    "test_far_ood_loader = torch.utils.data.DataLoader(test_far_ood,batch_size = 128,shuffle=False)"
   ]
  },
  {
   "cell_type": "code",
   "execution_count": 5,
   "metadata": {},
   "outputs": [],
   "source": [
    "model = simple_cnn(y_dim = 10,h_dims=[128,32]).to('cuda:0')\n",
    "criterion = torch.nn.CrossEntropyLoss()\n",
    "optimizer = torch.optim.Adam(model.parameters(),lr=1e-4, weight_decay=1e-4)\n"
   ]
  },
  {
   "cell_type": "markdown",
   "metadata": {},
   "source": [
    "### Training"
   ]
  },
  {
   "cell_type": "code",
   "execution_count": 6,
   "metadata": {},
   "outputs": [
    {
     "name": "stdout",
     "output_type": "stream",
     "text": [
      "tensor(0.1699, device='cuda:0', grad_fn=<NllLossBackward0>)\n",
      "tensor(0.0909, device='cuda:0', grad_fn=<NllLossBackward0>)\n",
      "tensor(0.1994, device='cuda:0', grad_fn=<NllLossBackward0>)\n",
      "tensor(0.0889, device='cuda:0', grad_fn=<NllLossBackward0>)\n",
      "tensor(0.0451, device='cuda:0', grad_fn=<NllLossBackward0>)\n"
     ]
    }
   ],
   "source": [
    "for e in range(5):\n",
    "    for image,label in train_loader:\n",
    "        out = model(image.to('cuda'))\n",
    "        # print(out.shape,label)\n",
    "        loss = criterion(out,label.to('cuda'))\n",
    "        optimizer.zero_grad()\n",
    "        loss.backward()\n",
    "        optimizer.step()\n",
    "    print(loss)"
   ]
  },
  {
   "cell_type": "markdown",
   "metadata": {},
   "source": [
    "### Test Accuracy"
   ]
  },
  {
   "cell_type": "code",
   "execution_count": 16,
   "metadata": {},
   "outputs": [
    {
     "name": "stdout",
     "output_type": "stream",
     "text": [
      "Accuracy:0.9854\n"
     ]
    }
   ],
   "source": [
    "model.eval()\n",
    "y_true = []\n",
    "with torch.no_grad():\n",
    "    num_acc = 0\n",
    "    total = 0\n",
    "    for image, label in test_id_loader:\n",
    "        out = model(image.to('cuda'))\n",
    "        _,pred_logit = torch.max(out,dim=-1)\n",
    "        y_true += (label==pred_logit.cpu()).numpy().tolist()\n",
    "        num_acc += (label == pred_logit.cpu()).sum().item()\n",
    "        total += label.shape[0]\n",
    "print(\"Accuracy:{}\".format(num_acc/total))"
   ]
  },
  {
   "cell_type": "markdown",
   "metadata": {},
   "source": [
    "### Uncertainty"
   ]
  },
  {
   "cell_type": "code",
   "execution_count": 8,
   "metadata": {},
   "outputs": [],
   "source": [
    "from core.gmm import GaussianMixture\n",
    "gmm = GaussianMixture(10,32)"
   ]
  },
  {
   "cell_type": "code",
   "execution_count": 9,
   "metadata": {},
   "outputs": [],
   "source": [
    "ftrain = []\n",
    "with torch.no_grad():\n",
    "    for image,label in train_loader:\n",
    "        feature = model.net(image.to('cuda'))\n",
    "        ftrain += feature.cpu().numpy().tolist()\n",
    "ftrain = torch.tensor(ftrain)\n",
    "gmm.fit(ftrain)"
   ]
  },
  {
   "cell_type": "code",
   "execution_count": 10,
   "metadata": {},
   "outputs": [
    {
     "name": "stdout",
     "output_type": "stream",
     "text": [
      "-152.15677521152497\n",
      "-76.13418918552307\n",
      "-42.58938922562599\n"
     ]
    }
   ],
   "source": [
    "scale = 1e6\n",
    "\n",
    "id_score = []\n",
    "with torch.no_grad():\n",
    "    for image,label in test_id_loader:\n",
    "        feature = model.net(image.to('cuda')).cpu()\n",
    "        q = gmm.q(feature)\n",
    "        q = -q/scale\n",
    "        id_score += q.numpy().tolist()\n",
    "id_score = np.asarray(id_score)\n",
    "print(id_score.mean())\n",
    "\n",
    "\n",
    "near_ood_score = []\n",
    "with torch.no_grad():\n",
    "    for image,label in test_near_ood_loader:\n",
    "        feature = model.net(image.to('cuda')).cpu()\n",
    "        q = gmm.q(feature)\n",
    "        q = -q/scale\n",
    "        near_ood_score += q.numpy().tolist()\n",
    "near_ood_score = np.asarray(near_ood_score)\n",
    "print(near_ood_score.mean())\n",
    "\n",
    "\n",
    "far_ood_score = []\n",
    "with torch.no_grad():\n",
    "    for image,label in test_far_ood_loader:\n",
    "        feature = model.net(image.to('cuda')).cpu()\n",
    "        q = gmm.q(feature)\n",
    "        q = -q/scale\n",
    "        far_ood_score += q.numpy().tolist()\n",
    "far_ood_score = np.asarray(far_ood_score)\n",
    "print(far_ood_score.mean())"
   ]
  },
  {
   "cell_type": "code",
   "execution_count": 24,
   "metadata": {},
   "outputs": [
    {
     "data": {
      "image/png": "[encoded data removed]",
      "text/plain": [
       "<Figure size 720x360 with 2 Axes>"
      ]
     },
     "metadata": {
      "needs_background": "light"
     },
     "output_type": "display_data"
    },
    {
     "name": "stdout",
     "output_type": "stream",
     "text": [
      "Near AUROC:0.8118027403846154, Far AUROC: 0.8981179699999999\n"
     ]
    }
   ],
   "source": [
    "auroc = plot(id_score,near_ood_score,far_ood_score,name='DDU',reverse=True)\n",
    "print(\"Near AUROC:{}, Far AUROC: {}\".format(auroc[0],auroc[1]))"
   ]
  },
  {
   "cell_type": "markdown",
   "metadata": {},
   "source": [
    "## Calibration"
   ]
  },
  {
   "cell_type": "code",
   "execution_count": 13,
   "metadata": {},
   "outputs": [],
   "source": [
    "val_score = []\n",
    "val_y_true = []\n",
    "with torch.no_grad():\n",
    "    for image,label in val_id_loader:\n",
    "        feature = model.net(image.to('cuda')).cpu()\n",
    "        logit = model(image.to('cuda')).cpu()\n",
    "        _, pred_logit = torch.max(logit,dim=-1)\n",
    "        val_y_true += (pred_logit == label).cpu().numpy().tolist()\n",
    "        q = gmm.q(feature)\n",
    "        q = -q/scale\n",
    "        val_score += q.numpy().tolist()\n",
    "val_score = np.asarray(val_score)\n"
   ]
  },
  {
   "cell_type": "code",
   "execution_count": 19,
   "metadata": {},
   "outputs": [
    {
     "name": "stdout",
     "output_type": "stream",
     "text": [
      "ECE(%):  0.32172150708520963\n"
     ]
    },
    {
     "data": {
      "image/png": "[encoded data removed]",
      "text/plain": [
       "<Figure size 432x288 with 1 Axes>"
      ]
     },
     "metadata": {
      "needs_background": "light"
     },
     "output_type": "display_data"
    }
   ],
   "source": [
    "cval_score_en = val_score*-1\n",
    "cid_score_en = id_score* -1\n",
    "min_en= cval_score_en.min() -1 \n",
    "max_en = cval_score_en.max() +1\n",
    "cal = histogram_binning_calibrator(15,min_en, max_en)\n",
    "cal.fit(cval_score_en,val_y_true)\n",
    "prob_pred, prob_true, ece = cal.inference(cid_score_en, y_true)\n",
    "\n",
    "plot_confidence_hist(prob_true,prob_pred,'DDU')"
   ]
  },
  {
   "cell_type": "code",
   "execution_count": null,
   "metadata": {},
   "outputs": [],
   "source": []
  }
 ],
 "metadata": {
  "kernelspec": {
   "display_name": "Python 3.8.8 64-bit ('thor')",
   "language": "python",
   "name": "python3"
  },
  "language_info": {
   "codemirror_mode": {
    "name": "ipython",
    "version": 3
   },
   "file_extension": ".py",
   "mimetype": "text/x-python",
   "name": "python",
   "nbconvert_exporter": "python",
   "pygments_lexer": "ipython3",
   "version": "3.8.8"
  },
  "orig_nbformat": 4,
  "vscode": {
   "interpreter": {
    "hash": "9adc6131579d6f2492c2c685d0a65255ee9734f67f9bb1b4de850c2ee3774365"
   }
  }
 },
 "nbformat": 4,
 "nbformat_minor": 2
}
