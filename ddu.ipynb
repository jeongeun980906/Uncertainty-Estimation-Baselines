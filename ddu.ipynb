{
 "cells": [
  {
   "cell_type": "code",
   "execution_count": 1,
   "metadata": {},
   "outputs": [],
   "source": [
    "from utils.mnist import MNIST, MNIST_NORMALIZATION\n",
    "from utils.emnist import EMNIST\n",
    "from utils.fmnist import FashionMNIST\n",
    "from core.cnn import simple_cnn\n",
    "from core.maha import maha_distance\n",
    "from torchvision import datasets,transforms\n",
    "import torch\n",
    "import numpy as np\n",
    "from utils.score import plot\n",
    "import matplotlib.pyplot as plt"
   ]
  },
  {
   "cell_type": "code",
   "execution_count": 2,
   "metadata": {},
   "outputs": [],
   "source": [
    "tf = transforms.Compose([\n",
    "            transforms.ToTensor(),\n",
    "            MNIST_NORMALIZATION,\n",
    "        ])\n",
    "train_data = MNIST('./dataset/',download=True,mode = 'all',transform=tf)\n",
    "test_id = MNIST('./dataset/', download=True,mode = 'all',transform=tf,train=False)\n",
    "test_near_ood = EMNIST('./dataset/',download=True,transform=tf,train=False,split='letters')\n",
    "test_far_ood = FashionMNIST('./dataset/',download=True,transform=tf,train=False)\n",
    "\n",
    "train_loader = torch.utils.data.DataLoader(train_data,batch_size = 128,shuffle=True)\n",
    "test_id_loader = torch.utils.data.DataLoader(test_id,batch_size = 128,shuffle=True)\n",
    "test_near_ood_loader = torch.utils.data.DataLoader(test_near_ood,batch_size = 128,shuffle=True)\n",
    "test_far_ood_loader = torch.utils.data.DataLoader(test_far_ood,batch_size = 128,shuffle=True)"
   ]
  },
  {
   "cell_type": "code",
   "execution_count": 18,
   "metadata": {},
   "outputs": [],
   "source": [
    "model = simple_cnn(y_dim = 10,h_dims=[128,32]).to('cuda:0')\n",
    "criterion = torch.nn.CrossEntropyLoss()\n",
    "optimizer = torch.optim.Adam(model.parameters(),lr=1e-4, weight_decay=1e-4)\n"
   ]
  },
  {
   "cell_type": "markdown",
   "metadata": {},
   "source": [
    "### Training"
   ]
  },
  {
   "cell_type": "code",
   "execution_count": 19,
   "metadata": {},
   "outputs": [
    {
     "name": "stdout",
     "output_type": "stream",
     "text": [
      "tensor(0.1833, device='cuda:0', grad_fn=<NllLossBackward0>)\n",
      "tensor(0.1269, device='cuda:0', grad_fn=<NllLossBackward0>)\n",
      "tensor(0.0647, device='cuda:0', grad_fn=<NllLossBackward0>)\n",
      "tensor(0.0435, device='cuda:0', grad_fn=<NllLossBackward0>)\n",
      "tensor(0.0508, device='cuda:0', grad_fn=<NllLossBackward0>)\n"
     ]
    }
   ],
   "source": [
    "for e in range(5):\n",
    "    for image,label in train_loader:\n",
    "        out = model(image.to('cuda'))\n",
    "        # print(out.shape,label)\n",
    "        loss = criterion(out,label.to('cuda'))\n",
    "        optimizer.zero_grad()\n",
    "        loss.backward()\n",
    "        optimizer.step()\n",
    "    print(loss)"
   ]
  },
  {
   "cell_type": "markdown",
   "metadata": {},
   "source": [
    "### Test Accuracy"
   ]
  },
  {
   "cell_type": "code",
   "execution_count": 20,
   "metadata": {},
   "outputs": [
    {
     "name": "stdout",
     "output_type": "stream",
     "text": [
      "Accuracy:0.9847\n"
     ]
    }
   ],
   "source": [
    "model.eval()\n",
    "y_true = []\n",
    "with torch.no_grad():\n",
    "    num_acc = 0\n",
    "    total = 0\n",
    "    for image, label in test_id_loader:\n",
    "        out = model(image.to('cuda'))\n",
    "        _,pred_logit = torch.max(out,dim=-1)\n",
    "        y_true += (label==pred_logit.cpu()).numpy().tolist()\n",
    "        num_acc += (label == pred_logit.cpu()).sum().item()\n",
    "        total += label.shape[0]\n",
    "print(\"Accuracy:{}\".format(num_acc/total))"
   ]
  },
  {
   "cell_type": "markdown",
   "metadata": {},
   "source": [
    "### Uncertainty"
   ]
  },
  {
   "cell_type": "code",
   "execution_count": 21,
   "metadata": {},
   "outputs": [],
   "source": [
    "from core.gmm import GaussianMixture\n",
    "gmm = GaussianMixture(10,32)"
   ]
  },
  {
   "cell_type": "code",
   "execution_count": 22,
   "metadata": {},
   "outputs": [],
   "source": [
    "ftrain = []\n",
    "with torch.no_grad():\n",
    "    for image,label in train_loader:\n",
    "        feature = model.net(image.to('cuda'))\n",
    "        ftrain += feature.cpu().numpy().tolist()\n",
    "ftrain = torch.tensor(ftrain)\n",
    "gmm.fit(ftrain)"
   ]
  },
  {
   "cell_type": "code",
   "execution_count": 23,
   "metadata": {},
   "outputs": [
    {
     "name": "stdout",
     "output_type": "stream",
     "text": [
      "-108.28353271416425\n",
      "-51.65157597281612\n",
      "-31.58531380147934\n"
     ]
    }
   ],
   "source": [
    "scale = 1e6\n",
    "\n",
    "id_score = []\n",
    "with torch.no_grad():\n",
    "    for image,label in test_id_loader:\n",
    "        feature = model.net(image.to('cuda')).cpu()\n",
    "        q = gmm.q(feature)\n",
    "        q = -q/scale\n",
    "        id_score += q.numpy().tolist()\n",
    "id_score = np.asarray(id_score)\n",
    "print(id_score.mean())\n",
    "\n",
    "\n",
    "near_ood_score = []\n",
    "with torch.no_grad():\n",
    "    for image,label in test_near_ood_loader:\n",
    "        feature = model.net(image.to('cuda')).cpu()\n",
    "        q = gmm.q(feature)\n",
    "        q = -q/scale\n",
    "        near_ood_score += q.numpy().tolist()\n",
    "near_ood_score = np.asarray(near_ood_score)\n",
    "print(near_ood_score.mean())\n",
    "\n",
    "\n",
    "far_ood_score = []\n",
    "with torch.no_grad():\n",
    "    for image,label in test_far_ood_loader:\n",
    "        feature = model.net(image.to('cuda')).cpu()\n",
    "        q = gmm.q(feature)\n",
    "        q = -q/scale\n",
    "        far_ood_score += q.numpy().tolist()\n",
    "far_ood_score = np.asarray(far_ood_score)\n",
    "print(far_ood_score.mean())"
   ]
  },
  {
   "cell_type": "code",
   "execution_count": 24,
   "metadata": {},
   "outputs": [
    {
     "data": {
      "image/png": "[encoded data removed]",
      "text/plain": [
       "<Figure size 720x360 with 2 Axes>"
      ]
     },
     "metadata": {
      "needs_background": "light"
     },
     "output_type": "display_data"
    },
    {
     "name": "stdout",
     "output_type": "stream",
     "text": [
      "Near AUROC:0.8118027403846154, Far AUROC: 0.8981179699999999\n"
     ]
    }
   ],
   "source": [
    "auroc = plot(id_score,near_ood_score,far_ood_score,name='DDU',reverse=True)\n",
    "print(\"Near AUROC:{}, Far AUROC: {}\".format(auroc[0],auroc[1]))"
   ]
  },
  {
   "cell_type": "code",
   "execution_count": null,
   "metadata": {},
   "outputs": [],
   "source": []
  }
 ],
 "metadata": {
  "kernelspec": {
   "display_name": "Python 3.8.8 64-bit ('thor')",
   "language": "python",
   "name": "python3"
  },
  "language_info": {
   "codemirror_mode": {
    "name": "ipython",
    "version": 3
   },
   "file_extension": ".py",
   "mimetype": "text/x-python",
   "name": "python",
   "nbconvert_exporter": "python",
   "pygments_lexer": "ipython3",
   "version": "3.8.8"
  },
  "orig_nbformat": 4,
  "vscode": {
   "interpreter": {
    "hash": "9adc6131579d6f2492c2c685d0a65255ee9734f67f9bb1b4de850c2ee3774365"
   }
  }
 },
 "nbformat": 4,
 "nbformat_minor": 2
}
