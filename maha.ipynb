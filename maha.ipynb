{
 "cells": [
  {
   "cell_type": "code",
   "execution_count": 1,
   "metadata": {},
   "outputs": [],
   "source": [
    "from utils.mnist import MNIST, MNIST_NORMALIZATION\n",
    "from utils.emnist import EMNIST\n",
    "from utils.fmnist import FashionMNIST\n",
    "from core.cnn import simple_cnn\n",
    "from core.maha import maha_distance\n",
    "from torchvision import datasets,transforms\n",
    "import torch\n",
    "import numpy as np\n",
    "from utils.score import plot, histogram_binning_calibrator, plot_confidence_hist\n",
    "import matplotlib.pyplot as plt"
   ]
  },
  {
   "cell_type": "code",
   "execution_count": 2,
   "metadata": {},
   "outputs": [],
   "source": [
    "tf = transforms.Compose([\n",
    "            transforms.ToTensor(),\n",
    "            MNIST_NORMALIZATION,\n",
    "        ])\n",
    "train_data = MNIST('./dataset/',download=True,transform=tf)\n",
    "test_id = MNIST('./dataset/', download=True,transform=tf,train=False)\n",
    "val_id = MNIST('./dataset/', download=True,transform=tf,train=True,val=True)\n",
    "test_near_ood = EMNIST('./dataset/',download=True,transform=tf,train=False,split='letters')\n",
    "test_far_ood = FashionMNIST('./dataset/',download=True,transform=tf,train=False)\n",
    "\n",
    "train_loader = torch.utils.data.DataLoader(train_data,batch_size = 128,shuffle=True)\n",
    "val_id_loader = torch.utils.data.DataLoader(val_id,batch_size = 128,shuffle=False)\n",
    "test_id_loader = torch.utils.data.DataLoader(test_id,batch_size = 128,shuffle=False)\n",
    "test_near_ood_loader = torch.utils.data.DataLoader(test_near_ood,batch_size = 128,shuffle=False)\n",
    "test_far_ood_loader = torch.utils.data.DataLoader(test_far_ood,batch_size = 128,shuffle=False)"
   ]
  },
  {
   "cell_type": "code",
   "execution_count": 3,
   "metadata": {},
   "outputs": [],
   "source": [
    "model = simple_cnn(y_dim = 10,h_dims=[128,32]).to('cuda:0')\n",
    "criterion = torch.nn.CrossEntropyLoss()\n",
    "optimizer = torch.optim.Adam(model.parameters(),lr=1e-4, weight_decay=1e-4)\n"
   ]
  },
  {
   "cell_type": "markdown",
   "metadata": {},
   "source": [
    "### Training"
   ]
  },
  {
   "cell_type": "code",
   "execution_count": 4,
   "metadata": {},
   "outputs": [
    {
     "name": "stdout",
     "output_type": "stream",
     "text": [
      "tensor(0.1799, device='cuda:0', grad_fn=<NllLossBackward>)\n",
      "tensor(0.1386, device='cuda:0', grad_fn=<NllLossBackward>)\n",
      "tensor(0.1214, device='cuda:0', grad_fn=<NllLossBackward>)\n",
      "tensor(0.1494, device='cuda:0', grad_fn=<NllLossBackward>)\n",
      "tensor(0.1132, device='cuda:0', grad_fn=<NllLossBackward>)\n"
     ]
    }
   ],
   "source": [
    "for e in range(5):\n",
    "    for image,label in train_loader:\n",
    "        out = model(image.to('cuda'))\n",
    "        # print(out.shape,label)\n",
    "        loss = criterion(out,label.to('cuda'))\n",
    "        optimizer.zero_grad()\n",
    "        loss.backward()\n",
    "        optimizer.step()\n",
    "    print(loss)"
   ]
  },
  {
   "cell_type": "markdown",
   "metadata": {},
   "source": [
    "### Test Accuracy"
   ]
  },
  {
   "cell_type": "code",
   "execution_count": 5,
   "metadata": {},
   "outputs": [
    {
     "name": "stdout",
     "output_type": "stream",
     "text": [
      "Accuracy:0.9857\n"
     ]
    }
   ],
   "source": [
    "model.eval()\n",
    "y_true = []\n",
    "with torch.no_grad():\n",
    "    num_acc = 0\n",
    "    total = 0\n",
    "    for image, label in test_id_loader:\n",
    "        out = model(image.to('cuda'))\n",
    "        _,pred_logit = torch.max(out,dim=-1)\n",
    "        y_true += (label==pred_logit.cpu()).numpy().tolist()\n",
    "        num_acc += (label == pred_logit.cpu()).sum().item()\n",
    "        total += label.shape[0]\n",
    "print(\"Accuracy:{}\".format(num_acc/total))"
   ]
  },
  {
   "cell_type": "markdown",
   "metadata": {},
   "source": [
    "### Uncertainty"
   ]
  },
  {
   "cell_type": "code",
   "execution_count": 6,
   "metadata": {},
   "outputs": [],
   "source": [
    "maha = maha_distance('RMD',5)"
   ]
  },
  {
   "cell_type": "code",
   "execution_count": 7,
   "metadata": {},
   "outputs": [
    {
     "name": "stdout",
     "output_type": "stream",
     "text": [
      "(32, 32)\n"
     ]
    }
   ],
   "source": [
    "ftrain = []\n",
    "with torch.no_grad():\n",
    "    for image,label in train_loader:\n",
    "        feature = model.net(image.to('cuda'))\n",
    "        ftrain += feature.cpu().numpy().tolist()\n",
    "maha.model_feature(ftrain)"
   ]
  },
  {
   "cell_type": "code",
   "execution_count": 8,
   "metadata": {},
   "outputs": [
    {
     "name": "stdout",
     "output_type": "stream",
     "text": [
      "RMD\n",
      "(10000,)\n",
      "-1739.9710611326952\n",
      "RMD\n",
      "-553.8265313003327\n",
      "RMD\n",
      "-328.95604997218976\n"
     ]
    }
   ],
   "source": [
    "maha.type = 'RMD'\n",
    "scale = 100\n",
    "ftest= []\n",
    "with torch.no_grad():\n",
    "    for image,label in test_id_loader:\n",
    "        feature = model.net(image.to('cuda'))\n",
    "        ftest += feature.cpu().numpy().tolist()\n",
    "id_score = maha.score(ftest)\n",
    "print(id_score.shape)\n",
    "print(np.mean(id_score))\n",
    "\n",
    "ftest= []\n",
    "with torch.no_grad():\n",
    "    for image,label in test_near_ood_loader:\n",
    "        feature = model.net(image.to('cuda'))\n",
    "        ftest += feature.cpu().numpy().tolist()\n",
    "near_ood_score = maha.score(ftest)\n",
    "print(np.mean(near_ood_score))\n",
    "\n",
    "\n",
    "ftest= []\n",
    "with torch.no_grad():\n",
    "    for image,label in test_far_ood_loader:\n",
    "        feature = model.net(image.to('cuda'))\n",
    "        ftest += feature.cpu().numpy().tolist()\n",
    "far_ood_score = maha.score(ftest)\n",
    "print(np.mean(far_ood_score))\n"
   ]
  },
  {
   "cell_type": "code",
   "execution_count": 9,
   "metadata": {},
   "outputs": [
    {
     "data": {
      "image/png": "[encoded data removed]",
      "text/plain": [
       "<Figure size 720x360 with 2 Axes>"
      ]
     },
     "metadata": {
      "needs_background": "light"
     },
     "output_type": "display_data"
    },
    {
     "name": "stdout",
     "output_type": "stream",
     "text": [
      "Near AUROC:0.8869088846153848, Far AUROC: 0.9521070700000002\n"
     ]
    }
   ],
   "source": [
    "auroc = plot(id_score,near_ood_score,far_ood_score,name='relative-maha',reverse=False)\n",
    "print(\"Near AUROC:{}, Far AUROC: {}\".format(auroc[0],auroc[1]))"
   ]
  },
  {
   "cell_type": "markdown",
   "metadata": {},
   "source": [
    "## Calibaration"
   ]
  },
  {
   "cell_type": "code",
   "execution_count": 17,
   "metadata": {},
   "outputs": [
    {
     "name": "stdout",
     "output_type": "stream",
     "text": [
      "RMD\n"
     ]
    }
   ],
   "source": [
    "ftest= []\n",
    "val_y_true= []\n",
    "with torch.no_grad():\n",
    "    for image,label in val_id_loader:\n",
    "        feature = model.net(image.to('cuda'))\n",
    "        logit = model(image.to('cuda')).cpu()\n",
    "        _ , pred_logit = torch.max(logit,dim=-1)\n",
    "        ftest += feature.cpu().numpy().tolist()\n",
    "        val_y_true += (label == pred_logit).numpy().tolist()\n",
    "val_id_score = maha.score(ftest)"
   ]
  },
  {
   "cell_type": "code",
   "execution_count": 20,
   "metadata": {},
   "outputs": [
    {
     "name": "stdout",
     "output_type": "stream",
     "text": [
      "ECE(%):  0.43852081248724506\n"
     ]
    },
    {
     "data": {
      "image/png": "[encoded data removed]",
      "text/plain": [
       "<Figure size 432x288 with 1 Axes>"
      ]
     },
     "metadata": {
      "needs_background": "light"
     },
     "output_type": "display_data"
    }
   ],
   "source": [
    "cval_score_en = val_id_score*-1\n",
    "cid_score_en = id_score* -1\n",
    "min_en= cval_score_en.min() - 100\n",
    "max_en = cval_score_en.max() + 100\n",
    "cal = histogram_binning_calibrator(30,min_en, max_en)\n",
    "cal.fit(cval_score_en,val_y_true)\n",
    "prob_pred, prob_true, ece = cal.inference(cid_score_en, y_true)\n",
    "\n",
    "plot_confidence_hist(prob_true,prob_pred,'Entropy')"
   ]
  }
 ],
 "metadata": {
  "kernelspec": {
   "display_name": "Python 3.8.8 64-bit ('test')",
   "language": "python",
   "name": "python3"
  },
  "language_info": {
   "codemirror_mode": {
    "name": "ipython",
    "version": 3
   },
   "file_extension": ".py",
   "mimetype": "text/x-python",
   "name": "python",
   "nbconvert_exporter": "python",
   "pygments_lexer": "ipython3",
   "version": "3.8.8"
  },
  "orig_nbformat": 4,
  "vscode": {
   "interpreter": {
    "hash": "487dd1363733af1de4770410b450d96d959901602bb0e5b586b29f361e40eaa8"
   }
  }
 },
 "nbformat": 4,
 "nbformat_minor": 2
}
