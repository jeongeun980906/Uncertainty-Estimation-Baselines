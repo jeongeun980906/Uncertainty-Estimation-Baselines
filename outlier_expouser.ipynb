{
 "cells": [
  {
   "cell_type": "code",
   "execution_count": 1,
   "metadata": {},
   "outputs": [],
   "source": [
    "from loader.mnist import MNIST, MNIST_NORMALIZATION\n",
    "from loader.oe_mnist import OE_MNIST_train\n",
    "from loader.emnist import EMNIST\n",
    "from loader.fmnist import FashionMNIST\n",
    "from core.cnn import simple_cnn\n",
    "from core.maha import maha_distance\n",
    "from torchvision import datasets,transforms\n",
    "import torch\n",
    "import numpy as np\n",
    "from core.score import plot, plot_confidence_hist, histogram_binning_calibrator\n",
    "import matplotlib.pyplot as plt"
   ]
  },
  {
   "cell_type": "code",
   "execution_count": 2,
   "metadata": {},
   "outputs": [],
   "source": [
    "tf = transforms.Compose([\n",
    "            transforms.ToTensor(),\n",
    "            MNIST_NORMALIZATION,\n",
    "        ])\n",
    "train_data = OE_MNIST_train('./dataset/',transform=tf,num=100)\n",
    "test_id = MNIST('./dataset/', download=True,transform=tf,train=False)\n",
    "val_id = MNIST('./dataset/', download=True,transform=tf,train=True,val=True)\n",
    "test_near_ood = EMNIST('./dataset/',download=True,transform=tf,train=False,split='letters')\n",
    "test_far_ood = FashionMNIST('./dataset/',download=True,transform=tf,train=False)\n",
    "\n",
    "train_loader = torch.utils.data.DataLoader(train_data,batch_size = 128,shuffle=True)\n",
    "val_id_loader = torch.utils.data.DataLoader(val_id,batch_size = 128,shuffle=False)\n",
    "test_id_loader = torch.utils.data.DataLoader(test_id,batch_size = 128,shuffle=False)\n",
    "test_near_ood_loader = torch.utils.data.DataLoader(test_near_ood,batch_size = 128,shuffle=False)\n",
    "test_far_ood_loader = torch.utils.data.DataLoader(test_far_ood,batch_size = 128,shuffle=False)"
   ]
  },
  {
   "cell_type": "code",
   "execution_count": 14,
   "metadata": {},
   "outputs": [],
   "source": [
    "model = simple_cnn(y_dim = 10).to('cuda:0')\n",
    "optimizer = torch.optim.Adam(model.parameters(),lr=1e-4, weight_decay=1e-4)\n"
   ]
  },
  {
   "cell_type": "markdown",
   "metadata": {},
   "source": [
    "### Training"
   ]
  },
  {
   "cell_type": "code",
   "execution_count": 15,
   "metadata": {},
   "outputs": [],
   "source": [
    "def cross_entropy(out,target):\n",
    "    loss = torch.sum(-target*torch.log(out+1e-6),dim=-1)\n",
    "    if loss.shape[0] == 0:\n",
    "        return 0\n",
    "    return loss.mean()\n",
    "\n",
    "def oe_criterion(out, target):\n",
    "    out = torch.softmax(out,dim=-1)\n",
    "    oe = (target == -1)\n",
    "    id_ =~ oe \n",
    "    trg_oe = (torch.ones((oe.sum(),10))/10).to('cuda')\n",
    "    trg = target[id_]\n",
    "    trg = torch.eye(10)[trg].to('cuda')\n",
    "    loss_c = cross_entropy(out[id_], trg)\n",
    "    loss_oe = cross_entropy(out[oe],trg_oe)\n",
    "    loss = loss_c + 0.5* loss_oe\n",
    "    return loss\n"
   ]
  },
  {
   "cell_type": "code",
   "execution_count": 16,
   "metadata": {},
   "outputs": [
    {
     "name": "stdout",
     "output_type": "stream",
     "text": [
      "tensor(0.2107, device='cuda:0', grad_fn=<AddBackward0>)\n",
      "tensor(0.1762, device='cuda:0', grad_fn=<AddBackward0>)\n",
      "tensor(0.0973, device='cuda:0', grad_fn=<AddBackward0>)\n",
      "tensor(0.0757, device='cuda:0', grad_fn=<AddBackward0>)\n",
      "tensor(0.1027, device='cuda:0', grad_fn=<AddBackward0>)\n"
     ]
    }
   ],
   "source": [
    "for e in range(5):\n",
    "    for image,label in train_loader:\n",
    "        out = model(image.to('cuda'))\n",
    "        # print(out.shape,label)\n",
    "        loss = oe_criterion(out,label.to('cuda'))\n",
    "        optimizer.zero_grad()\n",
    "        loss.backward()\n",
    "        optimizer.step()\n",
    "    print(loss)"
   ]
  },
  {
   "cell_type": "markdown",
   "metadata": {},
   "source": [
    "### Test Accuracy"
   ]
  },
  {
   "cell_type": "code",
   "execution_count": 17,
   "metadata": {},
   "outputs": [
    {
     "name": "stdout",
     "output_type": "stream",
     "text": [
      "Accuracy:0.9818\n"
     ]
    }
   ],
   "source": [
    "model.eval()\n",
    "y_true = []\n",
    "with torch.no_grad():\n",
    "    num_acc = 0\n",
    "    total = 0\n",
    "    for image, label in test_id_loader:\n",
    "        out = model(image.to('cuda'))\n",
    "        _,pred_logit = torch.max(out,dim=-1)\n",
    "        y_true += (label==pred_logit.cpu()).numpy().tolist()\n",
    "        num_acc += (label == pred_logit.cpu()).sum().item()\n",
    "        total += label.shape[0]\n",
    "print(\"Accuracy:{}\".format(num_acc/total))"
   ]
  },
  {
   "cell_type": "markdown",
   "metadata": {},
   "source": [
    "### Uncertainty"
   ]
  },
  {
   "cell_type": "code",
   "execution_count": 18,
   "metadata": {},
   "outputs": [
    {
     "name": "stdout",
     "output_type": "stream",
     "text": [
      "0.024923494064807893 0.08524233065903622\n",
      "0.3802294162316964 1.1208578944469516\n",
      "0.8299718457341194 2.212169039617479\n"
     ]
    }
   ],
   "source": [
    "model.eval()\n",
    "id_score_ms = []\n",
    "id_score_en = []\n",
    "with torch.no_grad():\n",
    "    num_acc = 0\n",
    "    total = 0\n",
    "    for image, label in test_id_loader:\n",
    "        out = model(image.to('cuda'))\n",
    "        out = torch.softmax(out,dim=-1)\n",
    "        en = torch.sum(-out*torch.log(out),dim=-1)\n",
    "        logit,pred_logit = torch.max(out,dim=-1)\n",
    "        id_score_ms += (1-logit).cpu().numpy().tolist()\n",
    "        id_score_en += en.cpu().numpy().tolist()\n",
    "id_score_ms = np.asarray(id_score_ms)\n",
    "id_score_en = np.asanyarray(id_score_en)\n",
    "print(id_score_ms.mean(),id_score_en.mean())\n",
    "\n",
    "near_ood_score_ms = []\n",
    "near_ood_score_en = []\n",
    "with torch.no_grad():\n",
    "    num_acc = 0\n",
    "    total = 0\n",
    "    for image, label in test_near_ood_loader:\n",
    "        out = model(image.to('cuda'))\n",
    "        out = torch.softmax(out,dim=-1)\n",
    "        en = torch.sum(-out*torch.log(out),dim=-1)\n",
    "        logit,pred_logit = torch.max(out,dim=-1)\n",
    "        near_ood_score_ms += (1-logit).cpu().numpy().tolist()\n",
    "        near_ood_score_en += en.cpu().numpy().tolist()\n",
    "near_ood_score_ms = np.asarray(near_ood_score_ms)\n",
    "near_ood_score_en = np.asanyarray(near_ood_score_en)\n",
    "print(near_ood_score_ms.mean(),near_ood_score_en.mean())\n",
    "\n",
    "far_ood_score_ms = []\n",
    "far_ood_score_en = []\n",
    "with torch.no_grad():\n",
    "    num_acc = 0\n",
    "    total = 0\n",
    "    for image, label in test_far_ood_loader:\n",
    "        out = model(image.to('cuda'))\n",
    "        out = torch.softmax(out,dim=-1)\n",
    "        en = torch.sum(-out*torch.log(out),dim=-1)\n",
    "        logit,pred_logit = torch.max(out,dim=-1)\n",
    "        far_ood_score_ms += (1-logit).cpu().numpy().tolist()\n",
    "        far_ood_score_en += en.cpu().numpy().tolist()\n",
    "far_ood_score_ms = np.asarray(far_ood_score_ms)\n",
    "far_ood_score_en = np.asanyarray(far_ood_score_en)\n",
    "print(far_ood_score_ms.mean(),far_ood_score_en.mean())"
   ]
  },
  {
   "cell_type": "code",
   "execution_count": 19,
   "metadata": {},
   "outputs": [
    {
     "data": {
      "image/png": "[encoded data removed]",
      "text/plain": [
       "<Figure size 720x360 with 2 Axes>"
      ]
     },
     "metadata": {
      "needs_background": "light"
     },
     "output_type": "display_data"
    },
    {
     "name": "stdout",
     "output_type": "stream",
     "text": [
      "Near AUROC:0.9585254302884616, Far AUROC: 0.9994839499999999\n"
     ]
    }
   ],
   "source": [
    "auroc = plot(id_score_ms,near_ood_score_ms,far_ood_score_ms,name='relative-maha',reverse=False)\n",
    "print(\"Near AUROC:{}, Far AUROC: {}\".format(auroc[0],auroc[1]))"
   ]
  },
  {
   "cell_type": "code",
   "execution_count": 20,
   "metadata": {},
   "outputs": [
    {
     "data": {
      "image/png": "[encoded data removed]",
      "text/plain": [
       "<Figure size 720x360 with 2 Axes>"
      ]
     },
     "metadata": {
      "needs_background": "light"
     },
     "output_type": "display_data"
    },
    {
     "name": "stdout",
     "output_type": "stream",
     "text": [
      "Near AUROC:0.9645439663461539, Far AUROC: 0.99980448\n"
     ]
    }
   ],
   "source": [
    "auroc = plot(id_score_en,near_ood_score_en,far_ood_score_en,name='relative-maha',reverse=False)\n",
    "print(\"Near AUROC:{}, Far AUROC: {}\".format(auroc[0],auroc[1]))"
   ]
  },
  {
   "cell_type": "code",
   "execution_count": null,
   "metadata": {},
   "outputs": [],
   "source": []
  }
 ],
 "metadata": {
  "kernelspec": {
   "display_name": "Python 3.8.8 64-bit ('test')",
   "language": "python",
   "name": "python3"
  },
  "language_info": {
   "codemirror_mode": {
    "name": "ipython",
    "version": 3
   },
   "file_extension": ".py",
   "mimetype": "text/x-python",
   "name": "python",
   "nbconvert_exporter": "python",
   "pygments_lexer": "ipython3",
   "version": "3.8.8"
  },
  "orig_nbformat": 4,
  "vscode": {
   "interpreter": {
    "hash": "487dd1363733af1de4770410b450d96d959901602bb0e5b586b29f361e40eaa8"
   }
  }
 },
 "nbformat": 4,
 "nbformat_minor": 2
}
