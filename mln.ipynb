{
 "cells": [
  {
   "cell_type": "code",
   "execution_count": 1,
   "metadata": {},
   "outputs": [],
   "source": [
    "from utils.mnist import MNIST, MNIST_NORMALIZATION\n",
    "from utils.emnist import EMNIST\n",
    "from utils.fmnist import FashionMNIST\n",
    "from core.mln.mixture_head import mln_cnn\n",
    "from core.mln.func import mace_loss,mln_gather,mln_uncertainties\n",
    "from torchvision import datasets,transforms\n",
    "import torch\n",
    "import numpy as np\n",
    "from utils.score import plot\n",
    "import matplotlib.pyplot as plt"
   ]
  },
  {
   "cell_type": "markdown",
   "metadata": {},
   "source": [
    "## OOD as EMNIST or FMNIST"
   ]
  },
  {
   "cell_type": "code",
   "execution_count": 2,
   "metadata": {},
   "outputs": [],
   "source": [
    "tf = transforms.Compose([\n",
    "            transforms.ToTensor(),\n",
    "            MNIST_NORMALIZATION,\n",
    "        ])\n",
    "train_data = MNIST('./dataset/',download=True,mode = 'all',transform=tf)\n",
    "test_id = MNIST('./dataset/', download=True,mode = 'all',transform=tf,train=False)\n",
    "test_near_ood = EMNIST('./dataset/',download=True,transform=tf,train=False,split='letters')\n",
    "test_far_ood = FashionMNIST('./dataset/',download=True,transform=tf,train=False)\n",
    "\n",
    "train_loader = torch.utils.data.DataLoader(train_data,batch_size = 128,shuffle=True)\n",
    "test_id_loader = torch.utils.data.DataLoader(test_id,batch_size = 128,shuffle=True)\n",
    "test_near_ood_loader = torch.utils.data.DataLoader(test_near_ood,batch_size = 128,shuffle=True)\n",
    "test_far_ood_loader = torch.utils.data.DataLoader(test_far_ood,batch_size = 128,shuffle=True)"
   ]
  },
  {
   "cell_type": "code",
   "execution_count": 3,
   "metadata": {},
   "outputs": [],
   "source": [
    "model = mln_cnn(y_dim=10,sig_min=1,sig_max=2,\n",
    "                mu_min=-3,mu_max=3,k=10).to('cuda:0')\n",
    "optimizer = torch.optim.Adam(model.parameters(),lr=1e-4, \n",
    "                weight_decay=1e-4)\n"
   ]
  },
  {
   "cell_type": "markdown",
   "metadata": {},
   "source": [
    "### Training"
   ]
  },
  {
   "cell_type": "code",
   "execution_count": 4,
   "metadata": {},
   "outputs": [
    {
     "name": "stdout",
     "output_type": "stream",
     "text": [
      "tensor(1.1526, device='cuda:0', grad_fn=<AddBackward0>)\n",
      "0.1507149636745453 0.01360955648124218 1.001894235610962\n",
      "tensor(1.1590, device='cuda:0', grad_fn=<AddBackward0>)\n",
      "0.15817470848560333 0.0065345196053385735 1.0008326768875122\n",
      "tensor(1.0249, device='cuda:0', grad_fn=<AddBackward0>)\n",
      "0.02453547529876232 0.004741491284221411 1.000394582748413\n",
      "tensor(1.0459, device='cuda:0', grad_fn=<AddBackward0>)\n",
      "0.04570765420794487 0.00411005737259984 1.0002169609069824\n",
      "tensor(1.0948, device='cuda:0', grad_fn=<AddBackward0>)\n",
      "0.09455722570419312 0.004197311587631702 1.0002230405807495\n"
     ]
    }
   ],
   "source": [
    "from torch.nn.modules.loss import _Loss\n",
    "model.train()\n",
    "for e in range(5):\n",
    "    for image,label in train_loader:\n",
    "        out = model(image.to('cuda'))\n",
    "        label = torch.eye(10)[label]\n",
    "        loss_out = mace_loss(out['pi'],out['mu'],out['sigma'],label.to('cuda'))\n",
    "        loss = loss_out['mace_avg'] - 1e-4* loss_out['epis_avg'] + 1*loss_out['alea_avg']\n",
    "        \n",
    "        optimizer.zero_grad()\n",
    "        loss.backward()\n",
    "        optimizer.step()\n",
    "    print(loss)\n",
    "    print(loss_out['mace_avg'].item(), \n",
    "            loss_out['epis_avg'].item(), loss_out['alea_avg'].item())"
   ]
  },
  {
   "cell_type": "markdown",
   "metadata": {},
   "source": [
    "### Test Accuracy"
   ]
  },
  {
   "cell_type": "code",
   "execution_count": 5,
   "metadata": {},
   "outputs": [
    {
     "name": "stdout",
     "output_type": "stream",
     "text": [
      "Accuracy:0.9862\n"
     ]
    }
   ],
   "source": [
    "model.eval()\n",
    "with torch.no_grad():\n",
    "    num_acc = 0\n",
    "    total = 0\n",
    "    for image, label in test_id_loader:\n",
    "        out = model(image.to('cuda'))\n",
    "        out = mln_gather(out['pi'],out['mu'],out['sigma'])\n",
    "        _,pred_logit = torch.max(out['mu_sel'],dim=-1)\n",
    "        num_acc += (label == pred_logit.cpu()).sum().item()\n",
    "        total += label.shape[0]\n",
    "print(\"Accuracy:{}\".format(num_acc/total))"
   ]
  },
  {
   "cell_type": "markdown",
   "metadata": {},
   "source": [
    "### Uncertainty"
   ]
  },
  {
   "cell_type": "code",
   "execution_count": 6,
   "metadata": {},
   "outputs": [
    {
     "name": "stdout",
     "output_type": "stream",
     "text": [
      "0.0022774684366020665 1.0000815656900406\n",
      "0.007260433256878794 1.000801191673829\n",
      "0.013074560309856861 1.0009900793075561\n"
     ]
    }
   ],
   "source": [
    "in_alea = np.zeros((0))\n",
    "in_epis = np.zeros((0))\n",
    "with torch.no_grad():\n",
    "    for image,label in test_id_loader:\n",
    "        out = model(image.to('cuda'))\n",
    "        unct = mln_uncertainties(out['pi'],out['mu'],out['sigma'])\n",
    "        in_epis = np.concatenate((in_epis,unct['epis'].cpu().numpy()))\n",
    "        in_alea = np.concatenate((in_alea,unct['alea'].cpu().numpy()))\n",
    "print(np.mean(in_epis),np.mean(in_alea))\n",
    "\n",
    "out_near_alea = np.zeros((0))\n",
    "out_near_epis = np.zeros((0))\n",
    "with torch.no_grad():\n",
    "    for image,label in test_near_ood_loader:\n",
    "        out = model(image.to('cuda'))\n",
    "        unct = mln_uncertainties(out['pi'],out['mu'],out['sigma'])\n",
    "        out_near_epis = np.concatenate((out_near_epis,unct['epis'].cpu().numpy()))\n",
    "        out_near_alea = np.concatenate((out_near_alea,unct['alea'].cpu().numpy()))\n",
    "\n",
    "print(np.mean(out_near_epis),np.mean(out_near_alea))\n",
    "\n",
    "\n",
    "out_far_alea = np.zeros((0))\n",
    "out_far_epis = np.zeros((0))\n",
    "with torch.no_grad():\n",
    "    for image,label in test_far_ood_loader:\n",
    "        out = model(image.to('cuda'))\n",
    "        unct = mln_uncertainties(out['pi'],out['mu'],out['sigma'])\n",
    "        out_far_epis = np.concatenate((out_far_epis,unct['epis'].cpu().numpy()))\n",
    "        out_far_alea = np.concatenate((out_far_alea,unct['alea'].cpu().numpy()))\n",
    "print(np.mean(out_far_epis),np.mean(out_far_alea))\n"
   ]
  },
  {
   "cell_type": "code",
   "execution_count": 7,
   "metadata": {},
   "outputs": [
    {
     "data": {
      "image/png": "[encoded data removed]",
      "text/plain": [
       "<Figure size 720x360 with 2 Axes>"
      ]
     },
     "metadata": {
      "needs_background": "light"
     },
     "output_type": "display_data"
    },
    {
     "name": "stdout",
     "output_type": "stream",
     "text": [
      "Near AUROC:0.7534677067307692, Far AUROC: 0.9251906700000001\n"
     ]
    }
   ],
   "source": [
    "auroc = plot(in_epis,out_near_epis, out_far_epis,name='Epis',reverse=False)\n",
    "print(\"Near AUROC:{}, Far AUROC: {}\".format(auroc[0],auroc[1]))"
   ]
  },
  {
   "cell_type": "code",
   "execution_count": 8,
   "metadata": {},
   "outputs": [
    {
     "data": {
      "image/png": "[encoded data removed]",
      "text/plain": [
       "<Figure size 720x360 with 2 Axes>"
      ]
     },
     "metadata": {
      "needs_background": "light"
     },
     "output_type": "display_data"
    },
    {
     "name": "stdout",
     "output_type": "stream",
     "text": [
      "Near AUROC:0.7281324447115385, Far AUROC: 0.8510813100000001\n"
     ]
    }
   ],
   "source": [
    "auroc = plot(in_alea,out_near_alea, out_far_alea,name='Alea',reverse=False)\n",
    "print(\"Near AUROC:{}, Far AUROC: {}\".format(auroc[0],auroc[1]))"
   ]
  },
  {
   "cell_type": "markdown",
   "metadata": {},
   "source": [
    "## Calibration"
   ]
  },
  {
   "cell_type": "code",
   "execution_count": null,
   "metadata": {},
   "outputs": [],
   "source": []
  }
 ],
 "metadata": {
  "kernelspec": {
   "display_name": "Python 3.8.8 64-bit ('thor')",
   "language": "python",
   "name": "python3"
  },
  "language_info": {
   "codemirror_mode": {
    "name": "ipython",
    "version": 3
   },
   "file_extension": ".py",
   "mimetype": "text/x-python",
   "name": "python",
   "nbconvert_exporter": "python",
   "pygments_lexer": "ipython3",
   "version": "3.8.8"
  },
  "orig_nbformat": 4,
  "vscode": {
   "interpreter": {
    "hash": "9adc6131579d6f2492c2c685d0a65255ee9734f67f9bb1b4de850c2ee3774365"
   }
  }
 },
 "nbformat": 4,
 "nbformat_minor": 2
}
