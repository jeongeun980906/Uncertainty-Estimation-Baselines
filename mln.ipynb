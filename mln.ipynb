{
 "cells": [
  {
   "cell_type": "code",
   "execution_count": 1,
   "metadata": {},
   "outputs": [],
   "source": [
    "from utils.mnist import MNIST, MNIST_NORMALIZATION\n",
    "from utils.emnist import EMNIST\n",
    "from utils.fmnist import FashionMNIST\n",
    "from core.mln.mixture_head import mln_cnn\n",
    "from core.mln.func import mace_loss,mln_gather,mln_uncertainties\n",
    "from torchvision import datasets,transforms\n",
    "import torch\n",
    "import numpy as np\n",
    "from utils.score import plot, histogram_binning_calibrator, plot_confidence_hist\n",
    "import matplotlib.pyplot as plt"
   ]
  },
  {
   "cell_type": "markdown",
   "metadata": {},
   "source": [
    "## OOD as EMNIST or FMNIST"
   ]
  },
  {
   "cell_type": "code",
   "execution_count": null,
   "metadata": {},
   "outputs": [],
   "source": [
    "tf = transforms.Compose([\n",
    "            transforms.ToTensor(),\n",
    "            MNIST_NORMALIZATION,\n",
    "        ])\n",
    "train_data = MNIST('./dataset/',download=True,transform=tf)\n",
    "test_id = MNIST('./dataset/', download=True,transform=tf,train=False)\n",
    "val_id = MNIST('./dataset/', download=True,transform=tf,train=True,val=True)\n",
    "test_near_ood = EMNIST('./dataset/',download=True,transform=tf,train=False,split='letters')\n",
    "test_far_ood = FashionMNIST('./dataset/',download=True,transform=tf,train=False)\n",
    "\n",
    "train_loader = torch.utils.data.DataLoader(train_data,batch_size = 128,shuffle=True)\n",
    "val_id_loader = torch.utils.data.DataLoader(val_id,batch_size = 128,shuffle=False)\n",
    "test_id_loader = torch.utils.data.DataLoader(test_id,batch_size = 128,shuffle=False)\n",
    "test_near_ood_loader = torch.utils.data.DataLoader(test_near_ood,batch_size = 128,shuffle=False)\n",
    "test_far_ood_loader = torch.utils.data.DataLoader(test_far_ood,batch_size = 128,shuffle=False)"
   ]
  },
  {
   "cell_type": "code",
   "execution_count": null,
   "metadata": {},
   "outputs": [],
   "source": [
    "model = mln_cnn(y_dim=10,sig_min=1,sig_max=2,\n",
    "                mu_min=-3,mu_max=3,k=10).to('cuda:0')\n",
    "optimizer = torch.optim.Adam(model.parameters(),lr=1e-4, \n",
    "                weight_decay=1e-4)\n"
   ]
  },
  {
   "cell_type": "markdown",
   "metadata": {},
   "source": [
    "### Training"
   ]
  },
  {
   "cell_type": "code",
   "execution_count": null,
   "metadata": {},
   "outputs": [
    {
     "name": "stdout",
     "output_type": "stream",
     "text": [
      "tensor(1.2167, device='cuda:0', grad_fn=<AddBackward0>)\n",
      "0.2115750014781952 0.012105020694434643 1.0051753520965576\n",
      "tensor(1.0885, device='cuda:0', grad_fn=<AddBackward0>)\n",
      "0.08722368627786636 0.006267237942665815 1.0012680292129517\n",
      "tensor(1.0610, device='cuda:0', grad_fn=<AddBackward0>)\n",
      "0.06039804592728615 0.004604801069945097 1.0006197690963745\n",
      "tensor(1.0337, device='cuda:0', grad_fn=<AddBackward0>)\n",
      "0.033287569880485535 0.0035830095876008272 1.0003852844238281\n",
      "tensor(1.0427, device='cuda:0', grad_fn=<AddBackward0>)\n",
      "0.04247834160923958 0.0028038970194756985 1.000226616859436\n"
     ]
    }
   ],
   "source": [
    "from torch.nn.modules.loss import _Loss\n",
    "model.train()\n",
    "for e in range(5):\n",
    "    for image,label in train_loader:\n",
    "        out = model(image.to('cuda'))\n",
    "        label = torch.eye(10)[label]\n",
    "        loss_out = mace_loss(out['pi'],out['mu'],out['sigma'],label.to('cuda'))\n",
    "        loss = loss_out['mace_avg'] - 1e-4* loss_out['epis_avg'] + 1*loss_out['alea_avg']\n",
    "        \n",
    "        optimizer.zero_grad()\n",
    "        loss.backward()\n",
    "        optimizer.step()\n",
    "    print(loss)\n",
    "    print(loss_out['mace_avg'].item(), \n",
    "            loss_out['epis_avg'].item(), loss_out['alea_avg'].item())"
   ]
  },
  {
   "cell_type": "markdown",
   "metadata": {},
   "source": [
    "### Test Accuracy"
   ]
  },
  {
   "cell_type": "code",
   "execution_count": null,
   "metadata": {},
   "outputs": [
    {
     "name": "stdout",
     "output_type": "stream",
     "text": [
      "Accuracy:0.9868\n"
     ]
    }
   ],
   "source": [
    "model.eval()\n",
    "y_true = []\n",
    "with torch.no_grad():\n",
    "    num_acc = 0\n",
    "    total = 0\n",
    "    for image, label in test_id_loader:\n",
    "        out = model(image.to('cuda'))\n",
    "        out = mln_gather(out['pi'],out['mu'],out['sigma'])\n",
    "        _,pred_logit = torch.max(out['mu_sel'],dim=-1)\n",
    "        y_true += (label==pred_logit.cpu()).numpy().tolist()\n",
    "        num_acc += (label == pred_logit.cpu()).sum().item()\n",
    "        total += label.shape[0]\n",
    "print(\"Accuracy:{}\".format(num_acc/total))"
   ]
  },
  {
   "cell_type": "markdown",
   "metadata": {},
   "source": [
    "### Uncertainty"
   ]
  },
  {
   "cell_type": "code",
   "execution_count": null,
   "metadata": {},
   "outputs": [
    {
     "name": "stdout",
     "output_type": "stream",
     "text": [
      "0.0021896526103948417 1.000117319560051\n",
      "0.004604359713709676 1.0008045811263415\n",
      "0.006565327930909734 1.0009989402413368\n"
     ]
    }
   ],
   "source": [
    "in_alea = np.zeros((0))\n",
    "in_epis = np.zeros((0))\n",
    "with torch.no_grad():\n",
    "    for image,label in test_id_loader:\n",
    "        out = model(image.to('cuda'))\n",
    "        unct = mln_uncertainties(out['pi'],out['mu'],out['sigma'])\n",
    "        in_epis = np.concatenate((in_epis,unct['epis'].cpu().numpy()))\n",
    "        in_alea = np.concatenate((in_alea,unct['alea'].cpu().numpy()))\n",
    "print(np.mean(in_epis),np.mean(in_alea))\n",
    "\n",
    "out_near_alea = np.zeros((0))\n",
    "out_near_epis = np.zeros((0))\n",
    "with torch.no_grad():\n",
    "    for image,label in test_near_ood_loader:\n",
    "        out = model(image.to('cuda'))\n",
    "        unct = mln_uncertainties(out['pi'],out['mu'],out['sigma'])\n",
    "        out_near_epis = np.concatenate((out_near_epis,unct['epis'].cpu().numpy()))\n",
    "        out_near_alea = np.concatenate((out_near_alea,unct['alea'].cpu().numpy()))\n",
    "\n",
    "print(np.mean(out_near_epis),np.mean(out_near_alea))\n",
    "\n",
    "\n",
    "out_far_alea = np.zeros((0))\n",
    "out_far_epis = np.zeros((0))\n",
    "with torch.no_grad():\n",
    "    for image,label in test_far_ood_loader:\n",
    "        out = model(image.to('cuda'))\n",
    "        unct = mln_uncertainties(out['pi'],out['mu'],out['sigma'])\n",
    "        out_far_epis = np.concatenate((out_far_epis,unct['epis'].cpu().numpy()))\n",
    "        out_far_alea = np.concatenate((out_far_alea,unct['alea'].cpu().numpy()))\n",
    "print(np.mean(out_far_epis),np.mean(out_far_alea))\n"
   ]
  },
  {
   "cell_type": "code",
   "execution_count": null,
   "metadata": {},
   "outputs": [
    {
     "data": {
      "image/png": "[encoded data removed]",
      "text/plain": [
       "<Figure size 720x360 with 2 Axes>"
      ]
     },
     "metadata": {
      "needs_background": "light"
     },
     "output_type": "display_data"
    },
    {
     "name": "stdout",
     "output_type": "stream",
     "text": [
      "Near AUROC:0.6029806081730769, Far AUROC: 0.714978845\n"
     ]
    }
   ],
   "source": [
    "auroc = plot(in_epis,out_near_epis, out_far_epis,name='Epis',reverse=False)\n",
    "print(\"Near AUROC:{}, Far AUROC: {}\".format(auroc[0],auroc[1]))"
   ]
  },
  {
   "cell_type": "code",
   "execution_count": null,
   "metadata": {},
   "outputs": [
    {
     "data": {
      "image/png": "[encoded data removed]",
      "text/plain": [
       "<Figure size 720x360 with 2 Axes>"
      ]
     },
     "metadata": {
      "needs_background": "light"
     },
     "output_type": "display_data"
    },
    {
     "name": "stdout",
     "output_type": "stream",
     "text": [
      "Near AUROC:0.7228768461538462, Far AUROC: 0.7663736999999999\n"
     ]
    }
   ],
   "source": [
    "auroc = plot(in_alea,out_near_alea, out_far_alea,name='Alea',reverse=False)\n",
    "print(\"Near AUROC:{}, Far AUROC: {}\".format(auroc[0],auroc[1]))"
   ]
  },
  {
   "cell_type": "markdown",
   "metadata": {},
   "source": [
    "## Calibration"
   ]
  },
  {
   "cell_type": "code",
   "execution_count": null,
   "metadata": {},
   "outputs": [],
   "source": [
    "model.eval()\n",
    "val_in_alea = np.zeros((0))\n",
    "val_in_epis = np.zeros((0))\n",
    "val_y_true = []\n",
    "with torch.no_grad():\n",
    "    for image,label in val_id_loader:\n",
    "        out = model(image.to('cuda'))\n",
    "        unct = mln_uncertainties(out['pi'],out['mu'],out['sigma'])\n",
    "        val_in_epis = np.concatenate((val_in_epis,unct['epis'].cpu().numpy()))\n",
    "        val_in_alea = np.concatenate((val_in_alea,unct['alea'].cpu().numpy()))\n",
    "        out = mln_gather(out['pi'],out['mu'],out['sigma'])\n",
    "        _,pred_logit = torch.max(out['mu_sel'],dim=-1)\n",
    "        val_y_true += (label==pred_logit.cpu()).numpy().tolist()\n"
   ]
  },
  {
   "cell_type": "code",
   "execution_count": null,
   "metadata": {},
   "outputs": [],
   "source": [
    "\n",
    "def plot_confidence_hist(prob_true,prob_pred,NAME):\n",
    "    plt.figure()\n",
    "    plt.title(NAME)\n",
    "    for e,(t,p) in enumerate(zip(prob_true,prob_pred)):\n",
    "        if e == len(prob_true)-1:\n",
    "            width = 1-p\n",
    "        else:\n",
    "            width = prob_pred[e+1] - p\n",
    "        plt.bar(p,t,width,align = 'edge',color=[0,0,1,0.2])\n",
    "    plt.plot([0,1],[0,1])\n",
    "    plt.show()\n",
    "    "
   ]
  },
  {
   "cell_type": "code",
   "execution_count": null,
   "metadata": {},
   "outputs": [
    {
     "name": "stdout",
     "output_type": "stream",
     "text": [
      "ECE(%):  0.9391894316946205\n"
     ]
    },
    {
     "data": {
      "image/png": "[encoded data removed]",
      "text/plain": [
       "<Figure size 432x288 with 1 Axes>"
      ]
     },
     "metadata": {
      "needs_background": "light"
     },
     "output_type": "display_data"
    }
   ],
   "source": [
    "cval_score = val_in_epis*-1\n",
    "cid_score = in_epis* -1\n",
    "min_en= cval_score.min() - 1e-3\n",
    "max_en = cval_score.max() + 1e-3\n",
    "\n",
    "cal = histogram_binning_calibrator(100,min_en, max_en)\n",
    "cal.fit(cval_score,val_y_true)\n",
    "prob_pred, prob_true, ece = cal.inference(cid_score, y_true)\n",
    "\n",
    "plot_confidence_hist(prob_true,prob_pred,'MLN EPIS')"
   ]
  },
  {
   "cell_type": "code",
   "execution_count": null,
   "metadata": {},
   "outputs": [
    {
     "name": "stdout",
     "output_type": "stream",
     "text": [
      "ECE(%):  0.872355212422693\n"
     ]
    },
    {
     "data": {
      "image/png": "[encoded data removed]",
      "text/plain": [
       "<Figure size 432x288 with 1 Axes>"
      ]
     },
     "metadata": {
      "needs_background": "light"
     },
     "output_type": "display_data"
    }
   ],
   "source": [
    "cval_score = val_in_alea*-1\n",
    "cid_score = in_alea* -1\n",
    "min_en= cval_score.min() - 1e-3\n",
    "max_en = cval_score.max() + 1e-3\n",
    "\n",
    "cal = histogram_binning_calibrator(100,min_en, max_en)\n",
    "cal.fit(cval_score,val_y_true)\n",
    "prob_pred, prob_true, ece = cal.inference(cid_score, y_true)\n",
    "\n",
    "plot_confidence_hist(prob_true,prob_pred,'MLN ALEA')"
   ]
  },
  {
   "cell_type": "code",
   "execution_count": null,
   "metadata": {},
   "outputs": [],
   "source": []
  }
 ],
 "metadata": {
  "kernelspec": {
   "display_name": "Python 3.8.8 64-bit ('thor')",
   "language": "python",
   "name": "python3"
  },
  "language_info": {
   "codemirror_mode": {
    "name": "ipython",
    "version": 3
   },
   "file_extension": ".py",
   "mimetype": "text/x-python",
   "name": "python",
   "nbconvert_exporter": "python",
   "pygments_lexer": "ipython3",
   "version": "3.8.8"
  },
  "orig_nbformat": 4,
  "vscode": {
   "interpreter": {
    "hash": "9adc6131579d6f2492c2c685d0a65255ee9734f67f9bb1b4de850c2ee3774365"
   }
  }
 },
 "nbformat": 4,
 "nbformat_minor": 2
}
