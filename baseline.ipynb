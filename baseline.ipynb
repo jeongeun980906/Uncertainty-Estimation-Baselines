{
 "cells": [
  {
   "cell_type": "code",
   "execution_count": 1,
   "metadata": {},
   "outputs": [],
   "source": [
    "from loader.mnist import MNIST, MNIST_NORMALIZATION\n",
    "from loader.emnist import EMNIST\n",
    "from loader.fmnist import FashionMNIST\n",
    "from core.cnn import simple_cnn\n",
    "from core.maha import maha_distance\n",
    "from torchvision import datasets,transforms\n",
    "import torch\n",
    "import numpy as np\n",
    "from core.score import plot, plot_confidence_hist, histogram_binning_calibrator\n",
    "import matplotlib.pyplot as plt"
   ]
  },
  {
   "cell_type": "code",
   "execution_count": 2,
   "metadata": {},
   "outputs": [],
   "source": [
    "tf = transforms.Compose([\n",
    "            transforms.ToTensor(),\n",
    "            MNIST_NORMALIZATION,\n",
    "        ])\n",
    "train_data = MNIST('./dataset/',download=True,transform=tf)\n",
    "test_id = MNIST('./dataset/', download=True,transform=tf,train=False)\n",
    "val_id = MNIST('./dataset/', download=True,transform=tf,train=True,val=True)\n",
    "test_near_ood = EMNIST('./dataset/',download=True,transform=tf,train=False,split='letters')\n",
    "test_far_ood = FashionMNIST('./dataset/',download=True,transform=tf,train=False)\n",
    "\n",
    "train_loader = torch.utils.data.DataLoader(train_data,batch_size = 128,shuffle=True)\n",
    "val_id_loader = torch.utils.data.DataLoader(val_id,batch_size = 128,shuffle=False)\n",
    "test_id_loader = torch.utils.data.DataLoader(test_id,batch_size = 128,shuffle=False)\n",
    "test_near_ood_loader = torch.utils.data.DataLoader(test_near_ood,batch_size = 128,shuffle=False)\n",
    "test_far_ood_loader = torch.utils.data.DataLoader(test_far_ood,batch_size = 128,shuffle=False)"
   ]
  },
  {
   "cell_type": "code",
   "execution_count": 3,
   "metadata": {},
   "outputs": [],
   "source": [
    "model = simple_cnn(y_dim = 10).to('cuda:0')\n",
    "criterion = torch.nn.CrossEntropyLoss()\n",
    "optimizer = torch.optim.Adam(model.parameters(),lr=1e-4, weight_decay=1e-4)\n"
   ]
  },
  {
   "cell_type": "markdown",
   "metadata": {},
   "source": [
    "### Training"
   ]
  },
  {
   "cell_type": "code",
   "execution_count": 4,
   "metadata": {},
   "outputs": [
    {
     "name": "stdout",
     "output_type": "stream",
     "text": [
      "tensor(0.1916, device='cuda:0', grad_fn=<NllLossBackward>)\n",
      "tensor(0.0703, device='cuda:0', grad_fn=<NllLossBackward>)\n",
      "tensor(0.0641, device='cuda:0', grad_fn=<NllLossBackward>)\n",
      "tensor(0.0625, device='cuda:0', grad_fn=<NllLossBackward>)\n",
      "tensor(0.0810, device='cuda:0', grad_fn=<NllLossBackward>)\n"
     ]
    }
   ],
   "source": [
    "for e in range(5):\n",
    "    for image,label in train_loader:\n",
    "        out = model(image.to('cuda'))\n",
    "        # print(out.shape,label)\n",
    "        loss = criterion(out,label.to('cuda'))\n",
    "        optimizer.zero_grad()\n",
    "        loss.backward()\n",
    "        optimizer.step()\n",
    "    print(loss)"
   ]
  },
  {
   "cell_type": "markdown",
   "metadata": {},
   "source": [
    "### Test Accuracy"
   ]
  },
  {
   "cell_type": "code",
   "execution_count": 5,
   "metadata": {},
   "outputs": [
    {
     "name": "stdout",
     "output_type": "stream",
     "text": [
      "Accuracy:0.9869\n"
     ]
    }
   ],
   "source": [
    "model.eval()\n",
    "y_true = []\n",
    "with torch.no_grad():\n",
    "    num_acc = 0\n",
    "    total = 0\n",
    "    for image, label in test_id_loader:\n",
    "        out = model(image.to('cuda'))\n",
    "        _,pred_logit = torch.max(out,dim=-1)\n",
    "        y_true += (label==pred_logit.cpu()).numpy().tolist()\n",
    "        num_acc += (label == pred_logit.cpu()).sum().item()\n",
    "        total += label.shape[0]\n",
    "print(\"Accuracy:{}\".format(num_acc/total))"
   ]
  },
  {
   "cell_type": "markdown",
   "metadata": {},
   "source": [
    "### Uncertainty"
   ]
  },
  {
   "cell_type": "code",
   "execution_count": 6,
   "metadata": {},
   "outputs": [
    {
     "name": "stdout",
     "output_type": "stream",
     "text": [
      "0.01681990080475807 0.05676430226812725\n",
      "0.24483026552658815 0.6836307614376915\n",
      "0.3410591958403587 0.9701065966493916\n"
     ]
    }
   ],
   "source": [
    "model.eval()\n",
    "id_score_ms = []\n",
    "id_score_en = []\n",
    "with torch.no_grad():\n",
    "    num_acc = 0\n",
    "    total = 0\n",
    "    for image, label in test_id_loader:\n",
    "        out = model(image.to('cuda'))\n",
    "        out = torch.softmax(out,dim=-1)\n",
    "        en = torch.sum(-out*torch.log(out),dim=-1)\n",
    "        logit,pred_logit = torch.max(out,dim=-1)\n",
    "        id_score_ms += (1-logit).cpu().numpy().tolist()\n",
    "        id_score_en += en.cpu().numpy().tolist()\n",
    "id_score_ms = np.asarray(id_score_ms)\n",
    "id_score_en = np.asanyarray(id_score_en)\n",
    "print(id_score_ms.mean(),id_score_en.mean())\n",
    "\n",
    "near_ood_score_ms = []\n",
    "near_ood_score_en = []\n",
    "with torch.no_grad():\n",
    "    num_acc = 0\n",
    "    total = 0\n",
    "    for image, label in test_near_ood_loader:\n",
    "        out = model(image.to('cuda'))\n",
    "        out = torch.softmax(out,dim=-1)\n",
    "        en = torch.sum(-out*torch.log(out),dim=-1)\n",
    "        logit,pred_logit = torch.max(out,dim=-1)\n",
    "        near_ood_score_ms += (1-logit).cpu().numpy().tolist()\n",
    "        near_ood_score_en += en.cpu().numpy().tolist()\n",
    "near_ood_score_ms = np.asarray(near_ood_score_ms)\n",
    "near_ood_score_en = np.asanyarray(near_ood_score_en)\n",
    "print(near_ood_score_ms.mean(),near_ood_score_en.mean())\n",
    "\n",
    "far_ood_score_ms = []\n",
    "far_ood_score_en = []\n",
    "with torch.no_grad():\n",
    "    num_acc = 0\n",
    "    total = 0\n",
    "    for image, label in test_far_ood_loader:\n",
    "        out = model(image.to('cuda'))\n",
    "        out = torch.softmax(out,dim=-1)\n",
    "        en = torch.sum(-out*torch.log(out),dim=-1)\n",
    "        logit,pred_logit = torch.max(out,dim=-1)\n",
    "        far_ood_score_ms += (1-logit).cpu().numpy().tolist()\n",
    "        far_ood_score_en += en.cpu().numpy().tolist()\n",
    "far_ood_score_ms = np.asarray(far_ood_score_ms)\n",
    "far_ood_score_en = np.asanyarray(far_ood_score_en)\n",
    "print(far_ood_score_ms.mean(),far_ood_score_en.mean())"
   ]
  },
  {
   "cell_type": "code",
   "execution_count": 7,
   "metadata": {},
   "outputs": [
    {
     "data": {
      "image/png": "[encoded data removed]",
      "text/plain": [
       "<Figure size 720x360 with 2 Axes>"
      ]
     },
     "metadata": {
      "needs_background": "light"
     },
     "output_type": "display_data"
    },
    {
     "name": "stdout",
     "output_type": "stream",
     "text": [
      "Near AUROC:0.9260989735576923, Far AUROC: 0.9756891999999999\n"
     ]
    }
   ],
   "source": [
    "auroc = plot(id_score_ms,near_ood_score_ms,far_ood_score_ms,name='relative-maha',reverse=False)\n",
    "print(\"Near AUROC:{}, Far AUROC: {}\".format(auroc[0],auroc[1]))"
   ]
  },
  {
   "cell_type": "code",
   "execution_count": 8,
   "metadata": {},
   "outputs": [
    {
     "data": {
      "image/png": "[encoded data removed]",
      "text/plain": [
       "<Figure size 720x360 with 2 Axes>"
      ]
     },
     "metadata": {
      "needs_background": "light"
     },
     "output_type": "display_data"
    },
    {
     "name": "stdout",
     "output_type": "stream",
     "text": [
      "Near AUROC:0.9289883942307692, Far AUROC: 0.9802356499999999\n"
     ]
    }
   ],
   "source": [
    "auroc = plot(id_score_en,near_ood_score_en,far_ood_score_en,name='relative-maha',reverse=False)\n",
    "print(\"Near AUROC:{}, Far AUROC: {}\".format(auroc[0],auroc[1]))"
   ]
  },
  {
   "cell_type": "markdown",
   "metadata": {},
   "source": [
    "## Calibration"
   ]
  },
  {
   "cell_type": "code",
   "execution_count": 9,
   "metadata": {},
   "outputs": [
    {
     "name": "stdout",
     "output_type": "stream",
     "text": [
      "Accuracy:0.988\n"
     ]
    }
   ],
   "source": [
    "model.eval()\n",
    "val_y_true,val_score_ms, val_score_en = [], [], []\n",
    "with torch.no_grad():\n",
    "    num_acc = 0\n",
    "    total = 0\n",
    "    for image, label in val_id_loader:\n",
    "        out = model(image.to('cuda'))\n",
    "        out = torch.softmax(out,dim=-1)\n",
    "        en = torch.sum(-out*torch.log(out),dim=-1)\n",
    "        logit,pred_logit = torch.max(out,dim=-1)\n",
    "        val_score_ms += (1-logit).cpu().numpy().tolist()\n",
    "        val_score_en += en.cpu().numpy().tolist()\n",
    "        val_y_true += (label==pred_logit.cpu()).numpy().tolist()\n",
    "        num_acc += (label == pred_logit.cpu()).sum().item()\n",
    "        total += label.shape[0]\n",
    "print(\"Accuracy:{}\".format(num_acc/total))\n",
    "val_score_ms = np.asarray(val_score_ms)\n",
    "val_score_en = np.asarray(val_score_en)"
   ]
  },
  {
   "cell_type": "code",
   "execution_count": 10,
   "metadata": {},
   "outputs": [
    {
     "name": "stdout",
     "output_type": "stream",
     "text": [
      "ECE(%):  0.3959825472545508\n"
     ]
    },
    {
     "data": {
      "image/png": "[encoded data removed]",
      "text/plain": [
       "<Figure size 432x288 with 1 Axes>"
      ]
     },
     "metadata": {
      "needs_background": "light"
     },
     "output_type": "display_data"
    }
   ],
   "source": [
    "cal = histogram_binning_calibrator(15)\n",
    "cal.fit(1-val_score_ms,val_y_true)\n",
    "prob_pred, prob_true, ece = cal.inference(1-id_score_ms, y_true)\n",
    "\n",
    "plot_confidence_hist(prob_true,prob_pred,'Max softmax')"
   ]
  },
  {
   "cell_type": "code",
   "execution_count": 11,
   "metadata": {},
   "outputs": [
    {
     "name": "stdout",
     "output_type": "stream",
     "text": [
      "ECE(%):  2.622070175438592\n"
     ]
    },
    {
     "data": {
      "image/png": "[encoded data removed]",
      "text/plain": [
       "<Figure size 432x288 with 1 Axes>"
      ]
     },
     "metadata": {
      "needs_background": "light"
     },
     "output_type": "display_data"
    }
   ],
   "source": [
    "cval_score_en = val_score_en*-1\n",
    "cid_score_en = id_score_en* -1\n",
    "min_en= cval_score_en.min() -1 \n",
    "max_en = cval_score_en.max() +1\n",
    "cal = histogram_binning_calibrator(15,min_en, max_en)\n",
    "cal.fit(cval_score_en,val_y_true)\n",
    "prob_pred, prob_true, ece = cal.inference(cid_score_en, y_true)\n",
    "\n",
    "plot_confidence_hist(prob_true,prob_pred,'Entropy')"
   ]
  },
  {
   "cell_type": "code",
   "execution_count": null,
   "metadata": {},
   "outputs": [],
   "source": [
    "\n"
   ]
  }
 ],
 "metadata": {
  "kernelspec": {
   "display_name": "Python 3.8.8 64-bit ('test')",
   "language": "python",
   "name": "python3"
  },
  "language_info": {
   "codemirror_mode": {
    "name": "ipython",
    "version": 3
   },
   "file_extension": ".py",
   "mimetype": "text/x-python",
   "name": "python",
   "nbconvert_exporter": "python",
   "pygments_lexer": "ipython3",
   "version": "3.8.8"
  },
  "orig_nbformat": 4,
  "vscode": {
   "interpreter": {
    "hash": "487dd1363733af1de4770410b450d96d959901602bb0e5b586b29f361e40eaa8"
   }
  }
 },
 "nbformat": 4,
 "nbformat_minor": 2
}
