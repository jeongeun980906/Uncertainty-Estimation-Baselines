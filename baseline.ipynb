{
 "cells": [
  {
   "cell_type": "code",
   "execution_count": 1,
   "metadata": {},
   "outputs": [],
   "source": [
    "from utils.mnist import MNIST, MNIST_NORMALIZATION\n",
    "from utils.emnist import EMNIST\n",
    "from utils.fmnist import FashionMNIST\n",
    "from core.cnn import simple_cnn\n",
    "from core.maha import maha_distance\n",
    "from torchvision import datasets,transforms\n",
    "import torch\n",
    "import numpy as np\n",
    "from utils.score import plot\n",
    "import matplotlib.pyplot as plt"
   ]
  },
  {
   "cell_type": "code",
   "execution_count": 2,
   "metadata": {},
   "outputs": [],
   "source": [
    "tf = transforms.Compose([\n",
    "            transforms.ToTensor(),\n",
    "            MNIST_NORMALIZATION,\n",
    "        ])\n",
    "train_data = MNIST('./dataset/',download=True,mode = 'all',transform=tf)\n",
    "test_id = MNIST('./dataset/', download=True,mode = 'all',transform=tf,train=False)\n",
    "test_near_ood = EMNIST('./dataset/',download=True,transform=tf,train=False,split='letters')\n",
    "test_far_ood = FashionMNIST('./dataset/',download=True,transform=tf,train=False)\n",
    "\n",
    "train_loader = torch.utils.data.DataLoader(train_data,batch_size = 128,shuffle=True)\n",
    "test_id_loader = torch.utils.data.DataLoader(test_id,batch_size = 128,shuffle=False)\n",
    "test_near_ood_loader = torch.utils.data.DataLoader(test_near_ood,batch_size = 128,shuffle=False)\n",
    "test_far_ood_loader = torch.utils.data.DataLoader(test_far_ood,batch_size = 128,shuffle=False)"
   ]
  },
  {
   "cell_type": "code",
   "execution_count": 3,
   "metadata": {},
   "outputs": [],
   "source": [
    "model = simple_cnn(y_dim = 10).to('cuda:0')\n",
    "criterion = torch.nn.CrossEntropyLoss()\n",
    "optimizer = torch.optim.Adam(model.parameters(),lr=1e-4, weight_decay=1e-4)\n"
   ]
  },
  {
   "cell_type": "markdown",
   "metadata": {},
   "source": [
    "### Training"
   ]
  },
  {
   "cell_type": "code",
   "execution_count": 4,
   "metadata": {},
   "outputs": [
    {
     "name": "stdout",
     "output_type": "stream",
     "text": [
      "tensor(0.1447, device='cuda:0', grad_fn=<NllLossBackward>)\n",
      "tensor(0.1320, device='cuda:0', grad_fn=<NllLossBackward>)\n",
      "tensor(0.0928, device='cuda:0', grad_fn=<NllLossBackward>)\n",
      "tensor(0.0842, device='cuda:0', grad_fn=<NllLossBackward>)\n",
      "tensor(0.0150, device='cuda:0', grad_fn=<NllLossBackward>)\n"
     ]
    }
   ],
   "source": [
    "for e in range(5):\n",
    "    for image,label in train_loader:\n",
    "        out = model(image.to('cuda'))\n",
    "        # print(out.shape,label)\n",
    "        loss = criterion(out,label.to('cuda'))\n",
    "        optimizer.zero_grad()\n",
    "        loss.backward()\n",
    "        optimizer.step()\n",
    "    print(loss)"
   ]
  },
  {
   "cell_type": "markdown",
   "metadata": {},
   "source": [
    "### Test Accuracy"
   ]
  },
  {
   "cell_type": "code",
   "execution_count": 5,
   "metadata": {},
   "outputs": [
    {
     "name": "stdout",
     "output_type": "stream",
     "text": [
      "Accuracy:0.9856\n"
     ]
    }
   ],
   "source": [
    "model.eval()\n",
    "y_true = []\n",
    "with torch.no_grad():\n",
    "    num_acc = 0\n",
    "    total = 0\n",
    "    for image, label in test_id_loader:\n",
    "        out = model(image.to('cuda'))\n",
    "        _,pred_logit = torch.max(out,dim=-1)\n",
    "        y_true += (label==pred_logit.cpu()).numpy().tolist()\n",
    "        num_acc += (label == pred_logit.cpu()).sum().item()\n",
    "        total += label.shape[0]\n",
    "print(\"Accuracy:{}\".format(num_acc/total))"
   ]
  },
  {
   "cell_type": "markdown",
   "metadata": {},
   "source": [
    "### Uncertainty"
   ]
  },
  {
   "cell_type": "code",
   "execution_count": 6,
   "metadata": {},
   "outputs": [
    {
     "name": "stdout",
     "output_type": "stream",
     "text": [
      "0.016193701714277267 0.053843225193963826\n",
      "0.2544163099475778 0.7092955565623856\n",
      "0.42053973273038864 1.1901365558551993\n"
     ]
    }
   ],
   "source": [
    "model.eval()\n",
    "id_score_ms = []\n",
    "id_score_en = []\n",
    "with torch.no_grad():\n",
    "    num_acc = 0\n",
    "    total = 0\n",
    "    for image, label in test_id_loader:\n",
    "        out = model(image.to('cuda'))\n",
    "        out = torch.softmax(out,dim=-1)\n",
    "        en = torch.sum(-out*torch.log(out),dim=-1)\n",
    "        logit,pred_logit = torch.max(out,dim=-1)\n",
    "        id_score_ms += (1-logit).cpu().numpy().tolist()\n",
    "        id_score_en += en.cpu().numpy().tolist()\n",
    "id_score_ms = np.asarray(id_score_ms)\n",
    "id_score_en = np.asanyarray(id_score_en)\n",
    "print(id_score_ms.mean(),id_score_en.mean())\n",
    "\n",
    "near_ood_score_ms = []\n",
    "near_ood_score_en = []\n",
    "with torch.no_grad():\n",
    "    num_acc = 0\n",
    "    total = 0\n",
    "    for image, label in test_near_ood_loader:\n",
    "        out = model(image.to('cuda'))\n",
    "        out = torch.softmax(out,dim=-1)\n",
    "        en = torch.sum(-out*torch.log(out),dim=-1)\n",
    "        logit,pred_logit = torch.max(out,dim=-1)\n",
    "        near_ood_score_ms += (1-logit).cpu().numpy().tolist()\n",
    "        near_ood_score_en += en.cpu().numpy().tolist()\n",
    "near_ood_score_ms = np.asarray(near_ood_score_ms)\n",
    "near_ood_score_en = np.asanyarray(near_ood_score_en)\n",
    "print(near_ood_score_ms.mean(),near_ood_score_en.mean())\n",
    "\n",
    "far_ood_score_ms = []\n",
    "far_ood_score_en = []\n",
    "with torch.no_grad():\n",
    "    num_acc = 0\n",
    "    total = 0\n",
    "    for image, label in test_far_ood_loader:\n",
    "        out = model(image.to('cuda'))\n",
    "        out = torch.softmax(out,dim=-1)\n",
    "        en = torch.sum(-out*torch.log(out),dim=-1)\n",
    "        logit,pred_logit = torch.max(out,dim=-1)\n",
    "        far_ood_score_ms += (1-logit).cpu().numpy().tolist()\n",
    "        far_ood_score_en += en.cpu().numpy().tolist()\n",
    "far_ood_score_ms = np.asarray(far_ood_score_ms)\n",
    "far_ood_score_en = np.asanyarray(far_ood_score_en)\n",
    "print(far_ood_score_ms.mean(),far_ood_score_en.mean())"
   ]
  },
  {
   "cell_type": "code",
   "execution_count": 7,
   "metadata": {},
   "outputs": [
    {
     "data": {
      "image/png": "[encoded data removed]",
      "text/plain": [
       "<Figure size 720x360 with 2 Axes>"
      ]
     },
     "metadata": {
      "needs_background": "light"
     },
     "output_type": "display_data"
    },
    {
     "name": "stdout",
     "output_type": "stream",
     "text": [
      "Near AUROC:0.9366744254807693, Far AUROC: 0.9815996650000002\n"
     ]
    }
   ],
   "source": [
    "auroc = plot(id_score_ms,near_ood_score_ms,far_ood_score_ms,name='relative-maha',reverse=False)\n",
    "print(\"Near AUROC:{}, Far AUROC: {}\".format(auroc[0],auroc[1]))"
   ]
  },
  {
   "cell_type": "code",
   "execution_count": 8,
   "metadata": {},
   "outputs": [
    {
     "data": {
      "image/png": "[encoded data removed]",
      "text/plain": [
       "<Figure size 720x360 with 2 Axes>"
      ]
     },
     "metadata": {
      "needs_background": "light"
     },
     "output_type": "display_data"
    },
    {
     "name": "stdout",
     "output_type": "stream",
     "text": [
      "Near AUROC:0.9399112908653847, Far AUROC: 0.9858952900000001\n"
     ]
    }
   ],
   "source": [
    "auroc = plot(id_score_en,near_ood_score_en,far_ood_score_en,name='relative-maha',reverse=False)\n",
    "print(\"Near AUROC:{}, Far AUROC: {}\".format(auroc[0],auroc[1]))"
   ]
  },
  {
   "cell_type": "markdown",
   "metadata": {},
   "source": [
    "## Calibration"
   ]
  },
  {
   "cell_type": "code",
   "execution_count": 9,
   "metadata": {},
   "outputs": [],
   "source": [
    "from sklearn.calibration import calibration_curve"
   ]
  },
  {
   "cell_type": "code",
   "execution_count": 31,
   "metadata": {},
   "outputs": [],
   "source": [
    "def calculate_ece(y_true,score,prob_true,prob_pred):\n",
    "    bin_total = []\n",
    "    prob_pred = np.asarray(prob_pred)\n",
    "    for e, pred in enumerate(prob_pred):\n",
    "        try:\n",
    "            bm = ((score>pred) & (score<prob_pred[e+1])).sum()\n",
    "        except:\n",
    "            bm = ((score>pred)).sum()\n",
    "        bin_total.append(bm)\n",
    "    bin_total = np.asarray(bin_total)\n",
    "    ece = np.sum(np.abs(prob_true - prob_pred) * (bin_total / len(y_true)))\n",
    "    return ece*100"
   ]
  },
  {
   "cell_type": "code",
   "execution_count": 32,
   "metadata": {},
   "outputs": [
    {
     "data": {
      "image/png": "[encoded data removed]",
      "text/plain": [
       "<Figure size 432x288 with 1 Axes>"
      ]
     },
     "metadata": {
      "needs_background": "light"
     },
     "output_type": "display_data"
    }
   ],
   "source": [
    "prob_true, prob_pred = calibration_curve(y_true,1-id_score_ms, n_bins=30)\n",
    "plt.figure()\n",
    "plt.title(\"Softmax\")\n",
    "for e,(t,p) in enumerate(zip(prob_true,prob_pred)):\n",
    "    try:\n",
    "        width = prob_pred[e+1] - p\n",
    "    except:\n",
    "        width = 1-p\n",
    "    plt.bar(p,t,width,align = 'edge',color=[0,0,1,0.2])\n",
    "plt.plot([0,1],[0,1])\n",
    "plt.show()\n"
   ]
  },
  {
   "cell_type": "code",
   "execution_count": 35,
   "metadata": {},
   "outputs": [
    {
     "name": "stdout",
     "output_type": "stream",
     "text": [
      "ECE(%):  0.6840462702853184\n"
     ]
    }
   ],
   "source": [
    "ece = calculate_ece(y_true,1-id_score_ms,prob_true,prob_pred)\n",
    "print(\"ECE(%): \",ece)"
   ]
  },
  {
   "cell_type": "code",
   "execution_count": 15,
   "metadata": {},
   "outputs": [
    {
     "ename": "ValueError",
     "evalue": "y_prob has values outside [0, 1].",
     "output_type": "error",
     "traceback": [
      "\u001b[0;31m---------------------------------------------------------------------------\u001b[0m",
      "\u001b[0;31mValueError\u001b[0m                                Traceback (most recent call last)",
      "\u001b[1;32m/home/rilab/uncertainty/baseline.ipynb Cell 16\u001b[0m in \u001b[0;36m<cell line: 1>\u001b[0;34m()\u001b[0m\n\u001b[0;32m----> <a href='vscode-notebook-cell:/home/rilab/uncertainty/baseline.ipynb#ch0000023?line=0'>1</a>\u001b[0m prob_true, prob_pred \u001b[39m=\u001b[39m calibration_curve(y_true,\u001b[39m-\u001b[39;49mid_score_en, n_bins\u001b[39m=\u001b[39;49m\u001b[39m30\u001b[39;49m)\n\u001b[1;32m      <a href='vscode-notebook-cell:/home/rilab/uncertainty/baseline.ipynb#ch0000023?line=1'>2</a>\u001b[0m plt\u001b[39m.\u001b[39mfigure()\n\u001b[1;32m      <a href='vscode-notebook-cell:/home/rilab/uncertainty/baseline.ipynb#ch0000023?line=2'>3</a>\u001b[0m plt\u001b[39m.\u001b[39mtitle(\u001b[39m\"\u001b[39m\u001b[39mEntropy\u001b[39m\u001b[39m\"\u001b[39m)\n",
      "File \u001b[0;32m~/.pyenv/versions/3.8.8/envs/test/lib/python3.8/site-packages/sklearn/calibration.py:976\u001b[0m, in \u001b[0;36mcalibration_curve\u001b[0;34m(y_true, y_prob, pos_label, normalize, n_bins, strategy)\u001b[0m\n\u001b[1;32m    973\u001b[0m         y_prob \u001b[39m=\u001b[39m (y_prob \u001b[39m-\u001b[39m y_prob\u001b[39m.\u001b[39mmin()) \u001b[39m/\u001b[39m (y_prob\u001b[39m.\u001b[39mmax() \u001b[39m-\u001b[39m y_prob\u001b[39m.\u001b[39mmin())\n\u001b[1;32m    975\u001b[0m \u001b[39mif\u001b[39;00m y_prob\u001b[39m.\u001b[39mmin() \u001b[39m<\u001b[39m \u001b[39m0\u001b[39m \u001b[39mor\u001b[39;00m y_prob\u001b[39m.\u001b[39mmax() \u001b[39m>\u001b[39m \u001b[39m1\u001b[39m:\n\u001b[0;32m--> 976\u001b[0m     \u001b[39mraise\u001b[39;00m \u001b[39mValueError\u001b[39;00m(\u001b[39m\"\u001b[39m\u001b[39my_prob has values outside [0, 1].\u001b[39m\u001b[39m\"\u001b[39m)\n\u001b[1;32m    978\u001b[0m labels \u001b[39m=\u001b[39m np\u001b[39m.\u001b[39munique(y_true)\n\u001b[1;32m    979\u001b[0m \u001b[39mif\u001b[39;00m \u001b[39mlen\u001b[39m(labels) \u001b[39m>\u001b[39m \u001b[39m2\u001b[39m:\n",
      "\u001b[0;31mValueError\u001b[0m: y_prob has values outside [0, 1]."
     ]
    }
   ],
   "source": [
    "\n",
    "prob_true, prob_pred = calibration_curve(y_true,id_score_en, n_bins=30)\n",
    "plt.figure()\n",
    "plt.title(\"Entropy\")\n",
    "for e,(t,p) in enumerate(zip(prob_true,prob_pred)):\n",
    "    try:\n",
    "        width = prob_pred[e+1] - p\n",
    "    except:\n",
    "        width = 1-p\n",
    "    plt.bar(p,t,width,align = 'edge',color=[0,0,1,0.2])\n",
    "plt.plot([0,1],[0,1])\n",
    "plt.show()\n"
   ]
  },
  {
   "cell_type": "code",
   "execution_count": null,
   "metadata": {},
   "outputs": [],
   "source": []
  }
 ],
 "metadata": {
  "kernelspec": {
   "display_name": "Python 3.8.8 64-bit ('test')",
   "language": "python",
   "name": "python3"
  },
  "language_info": {
   "codemirror_mode": {
    "name": "ipython",
    "version": 3
   },
   "file_extension": ".py",
   "mimetype": "text/x-python",
   "name": "python",
   "nbconvert_exporter": "python",
   "pygments_lexer": "ipython3",
   "version": "3.8.8"
  },
  "orig_nbformat": 4,
  "vscode": {
   "interpreter": {
    "hash": "487dd1363733af1de4770410b450d96d959901602bb0e5b586b29f361e40eaa8"
   }
  }
 },
 "nbformat": 4,
 "nbformat_minor": 2
}
