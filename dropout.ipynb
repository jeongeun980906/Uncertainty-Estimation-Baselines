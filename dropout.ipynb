{
 "cells": [
  {
   "cell_type": "code",
   "execution_count": 1,
   "metadata": {},
   "outputs": [],
   "source": [
    "from utils.mnist import MNIST, MNIST_NORMALIZATION\n",
    "from utils.emnist import EMNIST\n",
    "from utils.fmnist import FashionMNIST\n",
    "from core.cnn import simple_cnn\n",
    "from core.maha import maha_distance\n",
    "from torchvision import datasets,transforms\n",
    "import torch\n",
    "import numpy as np\n",
    "from utils.score import plot\n",
    "import matplotlib.pyplot as plt"
   ]
  },
  {
   "cell_type": "code",
   "execution_count": 2,
   "metadata": {},
   "outputs": [],
   "source": [
    "tf = transforms.Compose([\n",
    "            transforms.ToTensor(),\n",
    "            MNIST_NORMALIZATION,\n",
    "        ])\n",
    "train_data = MNIST('./dataset/',download=True,mode = 'all',transform=tf)\n",
    "test_id = MNIST('./dataset/', download=True,mode = 'all',transform=tf,train=False)\n",
    "test_near_ood = EMNIST('./dataset/',download=True,transform=tf,train=False,split='letters')\n",
    "test_far_ood = FashionMNIST('./dataset/',download=True,transform=tf,train=False)\n",
    "\n",
    "train_loader = torch.utils.data.DataLoader(train_data,batch_size = 128,shuffle=True)\n",
    "test_id_loader = torch.utils.data.DataLoader(test_id,batch_size = 128,shuffle=True)\n",
    "test_near_ood_loader = torch.utils.data.DataLoader(test_near_ood,batch_size = 128,shuffle=True)\n",
    "test_far_ood_loader = torch.utils.data.DataLoader(test_far_ood,batch_size = 128,shuffle=True)"
   ]
  },
  {
   "cell_type": "code",
   "execution_count": 10,
   "metadata": {},
   "outputs": [],
   "source": [
    "model = simple_cnn(y_dim = 10,DROPOUT=True).to('cuda:0')\n",
    "criterion = torch.nn.CrossEntropyLoss()\n",
    "optimizer = torch.optim.Adam(model.parameters(),lr=1e-3, weight_decay=1e-4)\n"
   ]
  },
  {
   "cell_type": "markdown",
   "metadata": {},
   "source": [
    "### Training"
   ]
  },
  {
   "cell_type": "code",
   "execution_count": 11,
   "metadata": {},
   "outputs": [
    {
     "name": "stdout",
     "output_type": "stream",
     "text": [
      "tensor(0.0195, device='cuda:0', grad_fn=<NllLossBackward>)\n",
      "tensor(0.0776, device='cuda:0', grad_fn=<NllLossBackward>)\n",
      "tensor(0.1148, device='cuda:0', grad_fn=<NllLossBackward>)\n",
      "tensor(0.0466, device='cuda:0', grad_fn=<NllLossBackward>)\n",
      "tensor(0.0316, device='cuda:0', grad_fn=<NllLossBackward>)\n"
     ]
    }
   ],
   "source": [
    "for e in range(5):\n",
    "    for image,label in train_loader:\n",
    "        out = model(image.to('cuda'))\n",
    "        # print(out.shape,label)\n",
    "        loss = criterion(out,label.to('cuda'))\n",
    "        optimizer.zero_grad()\n",
    "        loss.backward()\n",
    "        optimizer.step()\n",
    "    print(loss)"
   ]
  },
  {
   "cell_type": "markdown",
   "metadata": {},
   "source": [
    "### Test Accuracy"
   ]
  },
  {
   "cell_type": "code",
   "execution_count": 17,
   "metadata": {},
   "outputs": [
    {
     "name": "stdout",
     "output_type": "stream",
     "text": [
      "Accuracy:0.9839\n"
     ]
    }
   ],
   "source": [
    "y_true = []\n",
    "with torch.no_grad():\n",
    "    num_acc = 0\n",
    "    total = 0\n",
    "    for image, label in test_id_loader:\n",
    "        out = model(image.to('cuda'))\n",
    "        out = torch.softmax(out,-1)\n",
    "        a,pred_logit = torch.max(out,dim=-1)\n",
    "        y_true += (label==pred_logit.cpu()).numpy().tolist()\n",
    "        num_acc += (label == pred_logit.cpu()).sum().item()\n",
    "        total += label.shape[0]\n",
    "print(\"Accuracy:{}\".format(num_acc/total))"
   ]
  },
  {
   "cell_type": "markdown",
   "metadata": {},
   "source": [
    "### Uncertainty"
   ]
  },
  {
   "cell_type": "code",
   "execution_count": 39,
   "metadata": {},
   "outputs": [
    {
     "name": "stdout",
     "output_type": "stream",
     "text": [
      "0.004785434\n",
      "0.044689823\n",
      "0.05115143\n"
     ]
    }
   ],
   "source": [
    "model.train()\n",
    "\n",
    "total=10\n",
    "\n",
    "prob = torch.zeros(total,test_id.__len__(),10).to('cuda')\n",
    "\n",
    "with torch.no_grad():\n",
    "    n_total = 0     \n",
    "    for image,label in test_id_loader:\n",
    "        for T in range(total):\n",
    "            # Foraward path\n",
    "            model_pred    = model.forward(image.to('cuda'))\n",
    "            model_pred = torch.softmax(model_pred,dim=-1)\n",
    "            prob[T,n_total:n_total+image.size(0),:]=model_pred\n",
    "        n_total     += image.size(0)\n",
    "mean = torch.mean(prob,dim=0) # [N x D]\n",
    "var = torch.mean(torch.square(prob+1e-6),dim=0)-torch.square(mean+1e-6) # [N x D]\n",
    "id_score = torch.mean(torch.sqrt(var+1e-6),dim=-1) # [N]\n",
    "id_score = id_score.cpu().numpy()\n",
    "print(np.mean(id_score))\n",
    "\n",
    "prob = torch.zeros(total,test_near_ood.__len__(),10).to('cuda')\n",
    "\n",
    "with torch.no_grad(): \n",
    "    n_total = 0  \n",
    "    for image,label in test_near_ood_loader:\n",
    "        for T in range(total):\n",
    "            # Foraward path\n",
    "            model_pred    = model.forward(image.to('cuda'))\n",
    "            model_pred = torch.softmax(model_pred,dim=-1)\n",
    "            prob[T,n_total:n_total+image.size(0),:]=model_pred\n",
    "        n_total     += image.size(0)\n",
    "\n",
    "mean = torch.mean(prob,dim=0) # [N x D]\n",
    "var = torch.mean(torch.square(prob+1e-6),dim=0)-torch.square(mean+1e-6) # [N x D]\n",
    "near_ood_score = torch.mean(torch.sqrt(var+1e-6),dim=-1) # [N]\n",
    "near_ood_score = near_ood_score.cpu().numpy()\n",
    "print(np.mean(near_ood_score))\n",
    "\n",
    "prob = torch.zeros(total,test_far_ood.__len__(),10).to('cuda')\n",
    "\n",
    "with torch.no_grad():\n",
    "    n_total = 0        \n",
    "    for image,label in test_far_ood_loader:\n",
    "        for T in range(total):\n",
    "            # Foraward path\n",
    "            model_pred    = model.forward(image.to('cuda'))\n",
    "            model_pred = torch.softmax(model_pred,dim=-1)\n",
    "            prob[T,n_total:n_total+image.size(0),:]=model_pred\n",
    "        n_total     += image.size(0)\n",
    "\n",
    "mean = torch.mean(prob,dim=0) # [N x D]\n",
    "var = torch.mean(torch.square(prob+1e-6),dim=0)-torch.square(mean+1e-6) # [N x D]\n",
    "far_ood_score = torch.mean(torch.sqrt(var+1e-6),dim=-1) # [N]\n",
    "far_ood_score = far_ood_score.cpu().numpy()\n",
    "print(np.mean(far_ood_score))\n"
   ]
  },
  {
   "cell_type": "code",
   "execution_count": 40,
   "metadata": {},
   "outputs": [
    {
     "data": {
      "image/png": "[encoded data removed]",
      "text/plain": [
       "<Figure size 720x360 with 2 Axes>"
      ]
     },
     "metadata": {
      "needs_background": "light"
     },
     "output_type": "display_data"
    },
    {
     "name": "stdout",
     "output_type": "stream",
     "text": [
      "Near AUROC:0.9278722307692308, Far AUROC: 0.9701978150000001\n"
     ]
    }
   ],
   "source": [
    "auroc = plot(id_score,near_ood_score,far_ood_score,name='Droout',\n",
    "                        reverse=True)\n",
    "print(\"Near AUROC:{}, Far AUROC: {}\".format(auroc[0],auroc[1]))"
   ]
  },
  {
   "cell_type": "code",
   "execution_count": null,
   "metadata": {},
   "outputs": [],
   "source": []
  }
 ],
 "metadata": {
  "kernelspec": {
   "display_name": "Python 3.8.8 64-bit ('test')",
   "language": "python",
   "name": "python3"
  },
  "language_info": {
   "codemirror_mode": {
    "name": "ipython",
    "version": 3
   },
   "file_extension": ".py",
   "mimetype": "text/x-python",
   "name": "python",
   "nbconvert_exporter": "python",
   "pygments_lexer": "ipython3",
   "version": "3.8.8"
  },
  "orig_nbformat": 4,
  "vscode": {
   "interpreter": {
    "hash": "487dd1363733af1de4770410b450d96d959901602bb0e5b586b29f361e40eaa8"
   }
  }
 },
 "nbformat": 4,
 "nbformat_minor": 2
}
