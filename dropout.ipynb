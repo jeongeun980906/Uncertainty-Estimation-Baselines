{
 "cells": [
  {
   "cell_type": "code",
   "execution_count": 1,
   "metadata": {},
   "outputs": [],
   "source": [
    "from loader.mnist import MNIST, MNIST_NORMALIZATION\n",
    "from loader.emnist import EMNIST\n",
    "from loader.fmnist import FashionMNIST\n",
    "from core.cnn import simple_cnn\n",
    "from core.maha import maha_distance\n",
    "from torchvision import datasets,transforms\n",
    "import torch\n",
    "import numpy as np\n",
    "from core.score import plot, plot_confidence_hist, histogram_binning_calibrator\n",
    "import matplotlib.pyplot as plt"
   ]
  },
  {
   "cell_type": "code",
   "execution_count": 2,
   "metadata": {},
   "outputs": [],
   "source": [
    "tf = transforms.Compose([\n",
    "            transforms.ToTensor(),\n",
    "            MNIST_NORMALIZATION,\n",
    "        ])\n",
    "train_data = MNIST('./dataset/',download=True,transform=tf)\n",
    "test_id = MNIST('./dataset/', download=True,transform=tf,train=False)\n",
    "val_id = MNIST('./dataset/', download=True,transform=tf,train=True,val=True)\n",
    "test_near_ood = EMNIST('./dataset/',download=True,transform=tf,train=False,split='letters')\n",
    "test_far_ood = FashionMNIST('./dataset/',download=True,transform=tf,train=False)\n",
    "\n",
    "train_loader = torch.utils.data.DataLoader(train_data,batch_size = 128,shuffle=True)\n",
    "val_id_loader = torch.utils.data.DataLoader(val_id,batch_size = 128,shuffle=False)\n",
    "test_id_loader = torch.utils.data.DataLoader(test_id,batch_size = 128,shuffle=False)\n",
    "test_near_ood_loader = torch.utils.data.DataLoader(test_near_ood,batch_size = 128,shuffle=False)\n",
    "test_far_ood_loader = torch.utils.data.DataLoader(test_far_ood,batch_size = 128,shuffle=False)"
   ]
  },
  {
   "cell_type": "code",
   "execution_count": 3,
   "metadata": {},
   "outputs": [],
   "source": [
    "model = simple_cnn(y_dim = 10,DROPOUT=True).to('cuda:0')\n",
    "criterion = torch.nn.CrossEntropyLoss()\n",
    "optimizer = torch.optim.Adam(model.parameters(),lr=1e-3, weight_decay=1e-4)\n"
   ]
  },
  {
   "cell_type": "markdown",
   "metadata": {},
   "source": [
    "### Training"
   ]
  },
  {
   "cell_type": "code",
   "execution_count": 4,
   "metadata": {},
   "outputs": [
    {
     "name": "stdout",
     "output_type": "stream",
     "text": [
      "tensor(0.2946, device='cuda:0', grad_fn=<NllLossBackward>)\n",
      "tensor(0.0617, device='cuda:0', grad_fn=<NllLossBackward>)\n",
      "tensor(0.0169, device='cuda:0', grad_fn=<NllLossBackward>)\n",
      "tensor(0.0392, device='cuda:0', grad_fn=<NllLossBackward>)\n",
      "tensor(0.0164, device='cuda:0', grad_fn=<NllLossBackward>)\n"
     ]
    }
   ],
   "source": [
    "for e in range(5):\n",
    "    for image,label in train_loader:\n",
    "        out = model(image.to('cuda'))\n",
    "        # print(out.shape,label)\n",
    "        loss = criterion(out,label.to('cuda'))\n",
    "        optimizer.zero_grad()\n",
    "        loss.backward()\n",
    "        optimizer.step()\n",
    "    print(loss)"
   ]
  },
  {
   "cell_type": "markdown",
   "metadata": {},
   "source": [
    "### Test Accuracy"
   ]
  },
  {
   "cell_type": "code",
   "execution_count": 5,
   "metadata": {},
   "outputs": [
    {
     "name": "stdout",
     "output_type": "stream",
     "text": [
      "Accuracy:0.9857\n"
     ]
    }
   ],
   "source": [
    "y_true = []\n",
    "with torch.no_grad():\n",
    "    num_acc = 0\n",
    "    total = 0\n",
    "    for image, label in test_id_loader:\n",
    "        out = model(image.to('cuda'))\n",
    "        out = torch.softmax(out,-1)\n",
    "        a,pred_logit = torch.max(out,dim=-1)\n",
    "        y_true += (label==pred_logit.cpu()).numpy().tolist()\n",
    "        num_acc += (label == pred_logit.cpu()).sum().item()\n",
    "        total += label.shape[0]\n",
    "print(\"Accuracy:{}\".format(num_acc/total))"
   ]
  },
  {
   "cell_type": "markdown",
   "metadata": {},
   "source": [
    "### Uncertainty"
   ]
  },
  {
   "cell_type": "code",
   "execution_count": 6,
   "metadata": {},
   "outputs": [
    {
     "name": "stdout",
     "output_type": "stream",
     "text": [
      "0.0048382473\n",
      "0.043714087\n",
      "0.053604335\n"
     ]
    }
   ],
   "source": [
    "model.train()\n",
    "\n",
    "total=10\n",
    "\n",
    "prob = torch.zeros(total,test_id.__len__(),10).to('cuda')\n",
    "\n",
    "with torch.no_grad():\n",
    "    n_total = 0     \n",
    "    for image,label in test_id_loader:\n",
    "        for T in range(total):\n",
    "            # Foraward path\n",
    "            model_pred    = model.forward(image.to('cuda'))\n",
    "            model_pred = torch.softmax(model_pred,dim=-1)\n",
    "            prob[T,n_total:n_total+image.size(0),:]=model_pred\n",
    "        n_total     += image.size(0)\n",
    "mean = torch.mean(prob,dim=0) # [N x D]\n",
    "var = torch.mean(torch.square(prob+1e-6),dim=0)-torch.square(mean+1e-6) # [N x D]\n",
    "id_score = torch.mean(torch.sqrt(var+1e-6),dim=-1) # [N]\n",
    "id_score = id_score.cpu().numpy()\n",
    "print(np.mean(id_score))\n",
    "\n",
    "prob = torch.zeros(total,test_near_ood.__len__(),10).to('cuda')\n",
    "\n",
    "with torch.no_grad(): \n",
    "    n_total = 0  \n",
    "    for image,label in test_near_ood_loader:\n",
    "        for T in range(total):\n",
    "            # Foraward path\n",
    "            model_pred    = model.forward(image.to('cuda'))\n",
    "            model_pred = torch.softmax(model_pred,dim=-1)\n",
    "            prob[T,n_total:n_total+image.size(0),:]=model_pred\n",
    "        n_total     += image.size(0)\n",
    "\n",
    "mean = torch.mean(prob,dim=0) # [N x D]\n",
    "var = torch.mean(torch.square(prob+1e-6),dim=0)-torch.square(mean+1e-6) # [N x D]\n",
    "near_ood_score = torch.mean(torch.sqrt(var+1e-6),dim=-1) # [N]\n",
    "near_ood_score = near_ood_score.cpu().numpy()\n",
    "print(np.mean(near_ood_score))\n",
    "\n",
    "prob = torch.zeros(total,test_far_ood.__len__(),10).to('cuda')\n",
    "\n",
    "with torch.no_grad():\n",
    "    n_total = 0        \n",
    "    for image,label in test_far_ood_loader:\n",
    "        for T in range(total):\n",
    "            # Foraward path\n",
    "            model_pred    = model.forward(image.to('cuda'))\n",
    "            model_pred = torch.softmax(model_pred,dim=-1)\n",
    "            prob[T,n_total:n_total+image.size(0),:]=model_pred\n",
    "        n_total     += image.size(0)\n",
    "\n",
    "mean = torch.mean(prob,dim=0) # [N x D]\n",
    "var = torch.mean(torch.square(prob+1e-6),dim=0)-torch.square(mean+1e-6) # [N x D]\n",
    "far_ood_score = torch.mean(torch.sqrt(var+1e-6),dim=-1) # [N]\n",
    "far_ood_score = far_ood_score.cpu().numpy()\n",
    "print(np.mean(far_ood_score))\n"
   ]
  },
  {
   "cell_type": "code",
   "execution_count": 7,
   "metadata": {},
   "outputs": [
    {
     "data": {
      "image/png": "[encoded data removed]",
      "text/plain": [
       "<Figure size 720x360 with 2 Axes>"
      ]
     },
     "metadata": {
      "needs_background": "light"
     },
     "output_type": "display_data"
    },
    {
     "name": "stdout",
     "output_type": "stream",
     "text": [
      "Near AUROC:0.9250799807692307, Far AUROC: 0.9743132050000001\n"
     ]
    }
   ],
   "source": [
    "auroc = plot(id_score,near_ood_score,far_ood_score,name='Droout',\n",
    "                        reverse=True)\n",
    "print(\"Near AUROC:{}, Far AUROC: {}\".format(auroc[0],auroc[1]))"
   ]
  },
  {
   "cell_type": "markdown",
   "metadata": {},
   "source": [
    "### Calibration"
   ]
  },
  {
   "cell_type": "code",
   "execution_count": 16,
   "metadata": {},
   "outputs": [
    {
     "name": "stdout",
     "output_type": "stream",
     "text": [
      "0.0042976947\n"
     ]
    }
   ],
   "source": [
    "model.train()\n",
    "\n",
    "total=10\n",
    "\n",
    "prob = torch.zeros(total,val_id.__len__(),10).to('cuda')\n",
    "val_y_true = []\n",
    "with torch.no_grad():\n",
    "    n_total = 0     \n",
    "    for image,label in val_id_loader:\n",
    "        for T in range(total):\n",
    "            # Foraward path\n",
    "            model_pred    = model.forward(image.to('cuda'))\n",
    "            model_pred = torch.softmax(model_pred,dim=-1)\n",
    "            prob[T,n_total:n_total+image.size(0),:]=model_pred\n",
    "        n_total     += image.size(0)\n",
    "        val_y_true += label.numpy().tolist()\n",
    "mean = torch.mean(prob,dim=0) # [N x D]\n",
    "_, pred_logits = torch.max(mean,dim = -1) # N\n",
    "val_y_true = torch.LongTensor(val_y_true)\n",
    "val_y_true = (pred_logits.cpu() == val_y_true).numpy()\n",
    "var = torch.mean(torch.square(prob+1e-6),dim=0)-torch.square(mean+1e-6) # [N x D]\n",
    "val_id_score = torch.mean(torch.sqrt(var+1e-6),dim=-1) # [N]\n",
    "val_id_score = val_id_score.cpu().numpy()\n",
    "print(np.mean(val_id_score))\n"
   ]
  },
  {
   "cell_type": "code",
   "execution_count": 19,
   "metadata": {},
   "outputs": [],
   "source": [
    "def plot_confidence_hist(prob_true,prob_pred,NAME):\n",
    "    plt.figure()\n",
    "    plt.title(NAME)\n",
    "    for e,(t,p) in enumerate(zip(prob_true,prob_pred)):\n",
    "        if e == len(prob_true)-1:\n",
    "            width = 1-p\n",
    "        else:\n",
    "            width = prob_pred[e+1] - p\n",
    "        plt.bar(p,t,width,align = 'edge',color=[0,0,1,0.2])\n",
    "    plt.plot([0,1],[0,1])\n",
    "    plt.show()"
   ]
  },
  {
   "cell_type": "code",
   "execution_count": 21,
   "metadata": {},
   "outputs": [
    {
     "name": "stdout",
     "output_type": "stream",
     "text": [
      "ECE(%):  0.29959731564585373\n"
     ]
    },
    {
     "data": {
      "image/png": "[encoded data removed]",
      "text/plain": [
       "<Figure size 432x288 with 1 Axes>"
      ]
     },
     "metadata": {
      "needs_background": "light"
     },
     "output_type": "display_data"
    }
   ],
   "source": [
    "cval_score_en = val_id_score*-1\n",
    "cid_score_en = id_score* -1\n",
    "min_en= cval_score_en.min() -0.1 \n",
    "max_en = cval_score_en.max() +0.1\n",
    "cal = histogram_binning_calibrator(15,min_en, max_en)\n",
    "cal.fit(cval_score_en,val_y_true)\n",
    "prob_pred, prob_true, ece = cal.inference(cid_score_en, y_true)\n",
    "\n",
    "plot_confidence_hist(prob_true,prob_pred,'Entropy')"
   ]
  },
  {
   "cell_type": "code",
   "execution_count": null,
   "metadata": {},
   "outputs": [],
   "source": []
  }
 ],
 "metadata": {
  "kernelspec": {
   "display_name": "Python 3.8.8 64-bit ('test')",
   "language": "python",
   "name": "python3"
  },
  "language_info": {
   "codemirror_mode": {
    "name": "ipython",
    "version": 3
   },
   "file_extension": ".py",
   "mimetype": "text/x-python",
   "name": "python",
   "nbconvert_exporter": "python",
   "pygments_lexer": "ipython3",
   "version": "3.8.8"
  },
  "orig_nbformat": 4,
  "vscode": {
   "interpreter": {
    "hash": "487dd1363733af1de4770410b450d96d959901602bb0e5b586b29f361e40eaa8"
   }
  }
 },
 "nbformat": 4,
 "nbformat_minor": 2
}
